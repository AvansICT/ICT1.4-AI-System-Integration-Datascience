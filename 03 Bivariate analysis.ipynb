{
 "cells": [
  {
   "cell_type": "markdown",
   "metadata": {},
   "source": [
    "# Bivariate analysis"
   ]
  },
  {
   "cell_type": "markdown",
   "metadata": {},
   "source": [
    "In univariate analysis we only looked at 1 variable (= 1 column) at a time. In bivariate analysis we will now look at the relation between two variables (= 2 columns).\n",
    "\n",
    "The type of analysis we can do will once again depend on the types of data of these 2 variables. We look look at:\n",
    "- Numerical VS Numerical.\n",
    "- Nummerical VS Categorical\n",
    "- Categorical VS Categorical"
   ]
  },
  {
   "cell_type": "markdown",
   "metadata": {},
   "source": [
    "## Numerical vs Numerical"
   ]
  },
  {
   "cell_type": "markdown",
   "metadata": {},
   "source": [
    "Examples:\n",
    "- Body length VS Shoe size\n",
    "- Age VS Seconds it takes to run 1 kilometre\n",
    "- Country Unemployment rate VS Country Happiness Rating\n",
    "- Customer Revenue VS Customer Lifetime\n",
    "- Game Wishlists VS Game Purchases\n",
    "- Student grades VS Student attendance\n",
    "- ...\n",
    "\n",
    "\n",
    "Let's load the Iris dataset again and explore this!"
   ]
  },
  {
   "cell_type": "code",
   "execution_count": 2,
   "metadata": {},
   "outputs": [
    {
     "data": {
      "text/html": [
       "<div>\n",
       "<style scoped>\n",
       "    .dataframe tbody tr th:only-of-type {\n",
       "        vertical-align: middle;\n",
       "    }\n",
       "\n",
       "    .dataframe tbody tr th {\n",
       "        vertical-align: top;\n",
       "    }\n",
       "\n",
       "    .dataframe thead th {\n",
       "        text-align: right;\n",
       "    }\n",
       "</style>\n",
       "<table border=\"1\" class=\"dataframe\">\n",
       "  <thead>\n",
       "    <tr style=\"text-align: right;\">\n",
       "      <th></th>\n",
       "      <th>sepal_length</th>\n",
       "      <th>sepal_width</th>\n",
       "      <th>petal_length</th>\n",
       "      <th>petal_width</th>\n",
       "      <th>species</th>\n",
       "    </tr>\n",
       "  </thead>\n",
       "  <tbody>\n",
       "    <tr>\n",
       "      <th>0</th>\n",
       "      <td>5.1</td>\n",
       "      <td>3.5</td>\n",
       "      <td>1.4</td>\n",
       "      <td>0.2</td>\n",
       "      <td>setosa</td>\n",
       "    </tr>\n",
       "    <tr>\n",
       "      <th>1</th>\n",
       "      <td>4.9</td>\n",
       "      <td>3.0</td>\n",
       "      <td>1.4</td>\n",
       "      <td>0.2</td>\n",
       "      <td>setosa</td>\n",
       "    </tr>\n",
       "    <tr>\n",
       "      <th>2</th>\n",
       "      <td>4.7</td>\n",
       "      <td>3.2</td>\n",
       "      <td>1.3</td>\n",
       "      <td>0.2</td>\n",
       "      <td>setosa</td>\n",
       "    </tr>\n",
       "    <tr>\n",
       "      <th>3</th>\n",
       "      <td>4.6</td>\n",
       "      <td>3.1</td>\n",
       "      <td>1.5</td>\n",
       "      <td>0.2</td>\n",
       "      <td>setosa</td>\n",
       "    </tr>\n",
       "    <tr>\n",
       "      <th>4</th>\n",
       "      <td>5.0</td>\n",
       "      <td>3.6</td>\n",
       "      <td>1.4</td>\n",
       "      <td>0.2</td>\n",
       "      <td>setosa</td>\n",
       "    </tr>\n",
       "  </tbody>\n",
       "</table>\n",
       "</div>"
      ],
      "text/plain": [
       "   sepal_length  sepal_width  petal_length  petal_width species\n",
       "0           5.1          3.5           1.4          0.2  setosa\n",
       "1           4.9          3.0           1.4          0.2  setosa\n",
       "2           4.7          3.2           1.3          0.2  setosa\n",
       "3           4.6          3.1           1.5          0.2  setosa\n",
       "4           5.0          3.6           1.4          0.2  setosa"
      ]
     },
     "execution_count": 2,
     "metadata": {},
     "output_type": "execute_result"
    }
   ],
   "source": [
    "import pandas as pd\n",
    "import seaborn as sns\n",
    "\n",
    "iris = sns.load_dataset(\"iris\")\n",
    "iris.head()"
   ]
  },
  {
   "cell_type": "markdown",
   "metadata": {},
   "source": [
    "![](https://miro.medium.com/max/1000/1*Hh53mOF4Xy4eORjLilKOwA.png \"Iris dataset\") "
   ]
  },
  {
   "cell_type": "markdown",
   "metadata": {},
   "source": [
    "Let's look at the relation between the sepal length and petal length. (Dutch: Kelkblad en bloemblad)\n",
    "\n",
    "We will do this with a **scatter plot**.\n",
    "A scatter plot is a type of graph used to display the relationship between two numerical variables. Each point on the graph represents one observation from your dataset, with:\n",
    "\n",
    "The x-axis showing values of one variable (sepal_length)\n",
    "The y-axis showing values of another variable (petal_length)\n",
    "\n",
    "So, in this example, each dot represents a flower from the Iris dataset, positioned according to its sepal_length and petal_length.\n",
    "\n",
    "\n",
    "Scatter plots are useful for:\n",
    "- Spotting correlations or relationships between variables\n",
    "- Identifying clusters, trends, or outliers"
   ]
  },
  {
   "cell_type": "code",
   "execution_count": 3,
   "metadata": {},
   "outputs": [
    {
     "data": {
      "text/plain": [
       "<Axes: xlabel='sepal_length', ylabel='petal_length'>"
      ]
     },
     "execution_count": 3,
     "metadata": {},
     "output_type": "execute_result"
    },
    {
     "data": {
      "image/png": "[encoded data removed]",
      "text/plain": [
       "<Figure size 640x480 with 1 Axes>"
      ]
     },
     "metadata": {},
     "output_type": "display_data"
    }
   ],
   "source": [
    "iris.plot(kind='scatter', x='sepal_length', y='petal_length')"
   ]
  },
  {
   "cell_type": "markdown",
   "metadata": {},
   "source": [
    "A useful statistic for calculating the linear relation between two variable is the **Pearson correlation**.  \n",
    "The Pearson correlation measures the linear relation between two numerical variables. The result is a number between -1 and 1 where\n",
    "- -1 indicates a perfect negative linear relation\n",
    "- 0 indicates that there is no linear relation\n",
    "- 1 indicates a perfect positive linear relation"
   ]
  },
  {
   "cell_type": "markdown",
   "metadata": {},
   "source": [
    "![](https://www.spss-tutorials.com/img/correlation-coefficient-multiple-scatterplots.png \"Pearson correlation examples\")"
   ]
  },
  {
   "cell_type": "markdown",
   "metadata": {},
   "source": [
    "![](https://cdn1.byjus.com/wp-content/uploads/2019/06/word-image28.png \"Pearson correlation formula\")"
   ]
  },
  {
   "cell_type": "code",
   "execution_count": 4,
   "metadata": {},
   "outputs": [
    {
     "data": {
      "text/html": [
       "<div>\n",
       "<style scoped>\n",
       "    .dataframe tbody tr th:only-of-type {\n",
       "        vertical-align: middle;\n",
       "    }\n",
       "\n",
       "    .dataframe tbody tr th {\n",
       "        vertical-align: top;\n",
       "    }\n",
       "\n",
       "    .dataframe thead th {\n",
       "        text-align: right;\n",
       "    }\n",
       "</style>\n",
       "<table border=\"1\" class=\"dataframe\">\n",
       "  <thead>\n",
       "    <tr style=\"text-align: right;\">\n",
       "      <th></th>\n",
       "      <th>sepal_length</th>\n",
       "      <th>petal_length</th>\n",
       "    </tr>\n",
       "  </thead>\n",
       "  <tbody>\n",
       "    <tr>\n",
       "      <th>sepal_length</th>\n",
       "      <td>1.000000</td>\n",
       "      <td>0.871754</td>\n",
       "    </tr>\n",
       "    <tr>\n",
       "      <th>petal_length</th>\n",
       "      <td>0.871754</td>\n",
       "      <td>1.000000</td>\n",
       "    </tr>\n",
       "  </tbody>\n",
       "</table>\n",
       "</div>"
      ],
      "text/plain": [
       "              sepal_length  petal_length\n",
       "sepal_length      1.000000      0.871754\n",
       "petal_length      0.871754      1.000000"
      ]
     },
     "execution_count": 4,
     "metadata": {},
     "output_type": "execute_result"
    }
   ],
   "source": [
    "iris[['sepal_length','petal_length']].corr() # print the correlation coefficient for the two columns"
   ]
  },
  {
   "cell_type": "markdown",
   "metadata": {},
   "source": [
    "Let's print this for all the columns:"
   ]
  },
  {
   "cell_type": "code",
   "execution_count": 5,
   "metadata": {},
   "outputs": [
    {
     "ename": "ValueError",
     "evalue": "could not convert string to float: 'setosa'",
     "output_type": "error",
     "traceback": [
      "\u001b[1;31m---------------------------------------------------------------------------\u001b[0m",
      "\u001b[1;31mValueError\u001b[0m                                Traceback (most recent call last)",
      "Cell \u001b[1;32mIn[5], line 1\u001b[0m\n\u001b[1;32m----> 1\u001b[0m irisCorrelations \u001b[38;5;241m=\u001b[39m \u001b[43miris\u001b[49m\u001b[38;5;241;43m.\u001b[39;49m\u001b[43mcorr\u001b[49m\u001b[43m(\u001b[49m\u001b[43m)\u001b[49m\n",
      "File \u001b[1;32mc:\\Users\\Marjolein\\AppData\\Local\\Programs\\Python\\Python312\\Lib\\site-packages\\pandas\\core\\frame.py:11049\u001b[0m, in \u001b[0;36mDataFrame.corr\u001b[1;34m(self, method, min_periods, numeric_only)\u001b[0m\n\u001b[0;32m  11047\u001b[0m cols \u001b[38;5;241m=\u001b[39m data\u001b[38;5;241m.\u001b[39mcolumns\n\u001b[0;32m  11048\u001b[0m idx \u001b[38;5;241m=\u001b[39m cols\u001b[38;5;241m.\u001b[39mcopy()\n\u001b[1;32m> 11049\u001b[0m mat \u001b[38;5;241m=\u001b[39m \u001b[43mdata\u001b[49m\u001b[38;5;241;43m.\u001b[39;49m\u001b[43mto_numpy\u001b[49m\u001b[43m(\u001b[49m\u001b[43mdtype\u001b[49m\u001b[38;5;241;43m=\u001b[39;49m\u001b[38;5;28;43mfloat\u001b[39;49m\u001b[43m,\u001b[49m\u001b[43m \u001b[49m\u001b[43mna_value\u001b[49m\u001b[38;5;241;43m=\u001b[39;49m\u001b[43mnp\u001b[49m\u001b[38;5;241;43m.\u001b[39;49m\u001b[43mnan\u001b[49m\u001b[43m,\u001b[49m\u001b[43m \u001b[49m\u001b[43mcopy\u001b[49m\u001b[38;5;241;43m=\u001b[39;49m\u001b[38;5;28;43;01mFalse\u001b[39;49;00m\u001b[43m)\u001b[49m\n\u001b[0;32m  11051\u001b[0m \u001b[38;5;28;01mif\u001b[39;00m method \u001b[38;5;241m==\u001b[39m \u001b[38;5;124m\"\u001b[39m\u001b[38;5;124mpearson\u001b[39m\u001b[38;5;124m\"\u001b[39m:\n\u001b[0;32m  11052\u001b[0m     correl \u001b[38;5;241m=\u001b[39m libalgos\u001b[38;5;241m.\u001b[39mnancorr(mat, minp\u001b[38;5;241m=\u001b[39mmin_periods)\n",
      "File \u001b[1;32mc:\\Users\\Marjolein\\AppData\\Local\\Programs\\Python\\Python312\\Lib\\site-packages\\pandas\\core\\frame.py:1993\u001b[0m, in \u001b[0;36mDataFrame.to_numpy\u001b[1;34m(self, dtype, copy, na_value)\u001b[0m\n\u001b[0;32m   1991\u001b[0m \u001b[38;5;28;01mif\u001b[39;00m dtype \u001b[38;5;129;01mis\u001b[39;00m \u001b[38;5;129;01mnot\u001b[39;00m \u001b[38;5;28;01mNone\u001b[39;00m:\n\u001b[0;32m   1992\u001b[0m     dtype \u001b[38;5;241m=\u001b[39m np\u001b[38;5;241m.\u001b[39mdtype(dtype)\n\u001b[1;32m-> 1993\u001b[0m result \u001b[38;5;241m=\u001b[39m \u001b[38;5;28;43mself\u001b[39;49m\u001b[38;5;241;43m.\u001b[39;49m\u001b[43m_mgr\u001b[49m\u001b[38;5;241;43m.\u001b[39;49m\u001b[43mas_array\u001b[49m\u001b[43m(\u001b[49m\u001b[43mdtype\u001b[49m\u001b[38;5;241;43m=\u001b[39;49m\u001b[43mdtype\u001b[49m\u001b[43m,\u001b[49m\u001b[43m \u001b[49m\u001b[43mcopy\u001b[49m\u001b[38;5;241;43m=\u001b[39;49m\u001b[43mcopy\u001b[49m\u001b[43m,\u001b[49m\u001b[43m \u001b[49m\u001b[43mna_value\u001b[49m\u001b[38;5;241;43m=\u001b[39;49m\u001b[43mna_value\u001b[49m\u001b[43m)\u001b[49m\n\u001b[0;32m   1994\u001b[0m \u001b[38;5;28;01mif\u001b[39;00m result\u001b[38;5;241m.\u001b[39mdtype \u001b[38;5;129;01mis\u001b[39;00m \u001b[38;5;129;01mnot\u001b[39;00m dtype:\n\u001b[0;32m   1995\u001b[0m     result \u001b[38;5;241m=\u001b[39m np\u001b[38;5;241m.\u001b[39masarray(result, dtype\u001b[38;5;241m=\u001b[39mdtype)\n",
      "File \u001b[1;32mc:\\Users\\Marjolein\\AppData\\Local\\Programs\\Python\\Python312\\Lib\\site-packages\\pandas\\core\\internals\\managers.py:1694\u001b[0m, in \u001b[0;36mBlockManager.as_array\u001b[1;34m(self, dtype, copy, na_value)\u001b[0m\n\u001b[0;32m   1692\u001b[0m         arr\u001b[38;5;241m.\u001b[39mflags\u001b[38;5;241m.\u001b[39mwriteable \u001b[38;5;241m=\u001b[39m \u001b[38;5;28;01mFalse\u001b[39;00m\n\u001b[0;32m   1693\u001b[0m \u001b[38;5;28;01melse\u001b[39;00m:\n\u001b[1;32m-> 1694\u001b[0m     arr \u001b[38;5;241m=\u001b[39m \u001b[38;5;28;43mself\u001b[39;49m\u001b[38;5;241;43m.\u001b[39;49m\u001b[43m_interleave\u001b[49m\u001b[43m(\u001b[49m\u001b[43mdtype\u001b[49m\u001b[38;5;241;43m=\u001b[39;49m\u001b[43mdtype\u001b[49m\u001b[43m,\u001b[49m\u001b[43m \u001b[49m\u001b[43mna_value\u001b[49m\u001b[38;5;241;43m=\u001b[39;49m\u001b[43mna_value\u001b[49m\u001b[43m)\u001b[49m\n\u001b[0;32m   1695\u001b[0m     \u001b[38;5;66;03m# The underlying data was copied within _interleave, so no need\u001b[39;00m\n\u001b[0;32m   1696\u001b[0m     \u001b[38;5;66;03m# to further copy if copy=True or setting na_value\u001b[39;00m\n\u001b[0;32m   1698\u001b[0m \u001b[38;5;28;01mif\u001b[39;00m na_value \u001b[38;5;129;01mis\u001b[39;00m lib\u001b[38;5;241m.\u001b[39mno_default:\n",
      "File \u001b[1;32mc:\\Users\\Marjolein\\AppData\\Local\\Programs\\Python\\Python312\\Lib\\site-packages\\pandas\\core\\internals\\managers.py:1753\u001b[0m, in \u001b[0;36mBlockManager._interleave\u001b[1;34m(self, dtype, na_value)\u001b[0m\n\u001b[0;32m   1751\u001b[0m     \u001b[38;5;28;01melse\u001b[39;00m:\n\u001b[0;32m   1752\u001b[0m         arr \u001b[38;5;241m=\u001b[39m blk\u001b[38;5;241m.\u001b[39mget_values(dtype)\n\u001b[1;32m-> 1753\u001b[0m     \u001b[43mresult\u001b[49m\u001b[43m[\u001b[49m\u001b[43mrl\u001b[49m\u001b[38;5;241;43m.\u001b[39;49m\u001b[43mindexer\u001b[49m\u001b[43m]\u001b[49m \u001b[38;5;241m=\u001b[39m arr\n\u001b[0;32m   1754\u001b[0m     itemmask[rl\u001b[38;5;241m.\u001b[39mindexer] \u001b[38;5;241m=\u001b[39m \u001b[38;5;241m1\u001b[39m\n\u001b[0;32m   1756\u001b[0m \u001b[38;5;28;01mif\u001b[39;00m \u001b[38;5;129;01mnot\u001b[39;00m itemmask\u001b[38;5;241m.\u001b[39mall():\n",
      "\u001b[1;31mValueError\u001b[0m: could not convert string to float: 'setosa'"
     ]
    }
   ],
   "source": [
    "irisCorrelations = iris.corr()"
   ]
  },
  {
   "cell_type": "markdown",
   "metadata": {},
   "source": [
    "Why is this not working?\n",
    "This is the error:\n",
    "\n",
    "```ValueError: could not convert string to float: 'setosa'```"
   ]
  },
  {
   "cell_type": "code",
   "execution_count": 6,
   "metadata": {},
   "outputs": [
    {
     "data": {
      "text/html": [
       "<style type=\"text/css\">\n",
       "#T_4d249_row0_col0, #T_4d249_row1_col1, #T_4d249_row2_col2, #T_4d249_row3_col3 {\n",
       "  background-color: #b40426;\n",
       "  color: #f1f1f1;\n",
       "}\n",
       "#T_4d249_row0_col1, #T_4d249_row1_col0 {\n",
       "  background-color: #81a4fb;\n",
       "  color: #f1f1f1;\n",
       "}\n",
       "#T_4d249_row0_col2, #T_4d249_row2_col0 {\n",
       "  background-color: #d24b40;\n",
       "  color: #f1f1f1;\n",
       "}\n",
       "#T_4d249_row0_col3, #T_4d249_row3_col0 {\n",
       "  background-color: #de614d;\n",
       "  color: #f1f1f1;\n",
       "}\n",
       "#T_4d249_row1_col2, #T_4d249_row2_col1 {\n",
       "  background-color: #3b4cc0;\n",
       "  color: #f1f1f1;\n",
       "}\n",
       "#T_4d249_row1_col3, #T_4d249_row3_col1 {\n",
       "  background-color: #485fd1;\n",
       "  color: #f1f1f1;\n",
       "}\n",
       "#T_4d249_row2_col3, #T_4d249_row3_col2 {\n",
       "  background-color: #bd1f2d;\n",
       "  color: #f1f1f1;\n",
       "}\n",
       "</style>\n",
       "<table id=\"T_4d249\">\n",
       "  <thead>\n",
       "    <tr>\n",
       "      <th class=\"blank level0\" >&nbsp;</th>\n",
       "      <th id=\"T_4d249_level0_col0\" class=\"col_heading level0 col0\" >sepal_length</th>\n",
       "      <th id=\"T_4d249_level0_col1\" class=\"col_heading level0 col1\" >sepal_width</th>\n",
       "      <th id=\"T_4d249_level0_col2\" class=\"col_heading level0 col2\" >petal_length</th>\n",
       "      <th id=\"T_4d249_level0_col3\" class=\"col_heading level0 col3\" >petal_width</th>\n",
       "    </tr>\n",
       "  </thead>\n",
       "  <tbody>\n",
       "    <tr>\n",
       "      <th id=\"T_4d249_level0_row0\" class=\"row_heading level0 row0\" >sepal_length</th>\n",
       "      <td id=\"T_4d249_row0_col0\" class=\"data row0 col0\" >1.00</td>\n",
       "      <td id=\"T_4d249_row0_col1\" class=\"data row0 col1\" >-0.12</td>\n",
       "      <td id=\"T_4d249_row0_col2\" class=\"data row0 col2\" >0.87</td>\n",
       "      <td id=\"T_4d249_row0_col3\" class=\"data row0 col3\" >0.82</td>\n",
       "    </tr>\n",
       "    <tr>\n",
       "      <th id=\"T_4d249_level0_row1\" class=\"row_heading level0 row1\" >sepal_width</th>\n",
       "      <td id=\"T_4d249_row1_col0\" class=\"data row1 col0\" >-0.12</td>\n",
       "      <td id=\"T_4d249_row1_col1\" class=\"data row1 col1\" >1.00</td>\n",
       "      <td id=\"T_4d249_row1_col2\" class=\"data row1 col2\" >-0.43</td>\n",
       "      <td id=\"T_4d249_row1_col3\" class=\"data row1 col3\" >-0.37</td>\n",
       "    </tr>\n",
       "    <tr>\n",
       "      <th id=\"T_4d249_level0_row2\" class=\"row_heading level0 row2\" >petal_length</th>\n",
       "      <td id=\"T_4d249_row2_col0\" class=\"data row2 col0\" >0.87</td>\n",
       "      <td id=\"T_4d249_row2_col1\" class=\"data row2 col1\" >-0.43</td>\n",
       "      <td id=\"T_4d249_row2_col2\" class=\"data row2 col2\" >1.00</td>\n",
       "      <td id=\"T_4d249_row2_col3\" class=\"data row2 col3\" >0.96</td>\n",
       "    </tr>\n",
       "    <tr>\n",
       "      <th id=\"T_4d249_level0_row3\" class=\"row_heading level0 row3\" >petal_width</th>\n",
       "      <td id=\"T_4d249_row3_col0\" class=\"data row3 col0\" >0.82</td>\n",
       "      <td id=\"T_4d249_row3_col1\" class=\"data row3 col1\" >-0.37</td>\n",
       "      <td id=\"T_4d249_row3_col2\" class=\"data row3 col2\" >0.96</td>\n",
       "      <td id=\"T_4d249_row3_col3\" class=\"data row3 col3\" >1.00</td>\n",
       "    </tr>\n",
       "  </tbody>\n",
       "</table>\n"
      ],
      "text/plain": [
       "<pandas.io.formats.style.Styler at 0x14b60b8cce0>"
      ]
     },
     "execution_count": 6,
     "metadata": {},
     "output_type": "execute_result"
    }
   ],
   "source": [
    "irisCorrelations = iris.corr(numeric_only=True) # Only include numeric columns\n",
    "irisCorrelations.style.background_gradient(cmap='coolwarm', axis=None).format(precision=2) # Format the output, precision is the number of decimal places"
   ]
  },
  {
   "cell_type": "code",
   "execution_count": 7,
   "metadata": {},
   "outputs": [
    {
     "data": {
      "text/plain": [
       "<Axes: xlabel='sepal_width', ylabel='petal_length'>"
      ]
     },
     "execution_count": 7,
     "metadata": {},
     "output_type": "execute_result"
    },
    {
     "data": {
      "image/png": "[encoded data removed]",
      "text/plain": [
       "<Figure size 640x480 with 1 Axes>"
      ]
     },
     "metadata": {},
     "output_type": "display_data"
    }
   ],
   "source": [
    "iris.plot(kind='scatter', x='sepal_width', y='petal_length')"
   ]
  },
  {
   "cell_type": "markdown",
   "metadata": {},
   "source": [
    "**What is NumPy?**\n",
    "NumPy (short for Numerical Python) is a powerful Python library used for numerical computing. It provides support for:\n",
    "- Multi-dimensional arrays (called ndarray)\n",
    "- Mathematical operations on arrays (e.g., sum, mean, dot product, etc.)\n",
    "- Linear algebra, random number generation, Fourier transforms, and more"
   ]
  },
  {
   "cell_type": "code",
   "execution_count": 8,
   "metadata": {},
   "outputs": [],
   "source": [
    "import numpy as np"
   ]
  },
  {
   "cell_type": "code",
   "execution_count": 9,
   "metadata": {},
   "outputs": [],
   "source": [
    "exampleData = pd.Series(range(100)) + 1 # Create a series of numbers from 1 to 100\n",
    "exampleDataNegative = -exampleData\n",
    "exampleDataDouble = exampleData * 2\n",
    "exampleDataSquared = exampleData ** 2\n",
    "exampleDataRoot = exampleData ** 0.5\n",
    "\n",
    "exampleDataExponential = 2 ** exampleData\n",
    "exampleDataLog = np.log2(exampleData)\n",
    "\n",
    "exampleDataWithSmallNoise = exampleData + np.random.randint(low=0, high=10, size=len(exampleData))\n",
    "exampleDataWithMediumNoise = exampleData + np.random.randint(low=0, high=100, size=len(exampleData))\n",
    "exampleDataWithHeavyNoise = exampleData + np.random.randint(low=0, high=1000, size=len(exampleData))\n",
    "\n",
    "exampleDataFrame = pd.DataFrame({'original':exampleData, 'negative':exampleDataNegative, 'double':exampleDataDouble, 'squared':exampleDataSquared, 'root': exampleDataRoot, 'exp':exampleDataExponential, 'log':exampleDataLog, 'noiseSmall': exampleDataWithSmallNoise, 'noiseMedium': exampleDataWithMediumNoise, 'noiseHeavy':exampleDataWithHeavyNoise })"
   ]
  },
  {
   "cell_type": "code",
   "execution_count": 10,
   "metadata": {},
   "outputs": [
    {
     "data": {
      "text/html": [
       "<div>\n",
       "<style scoped>\n",
       "    .dataframe tbody tr th:only-of-type {\n",
       "        vertical-align: middle;\n",
       "    }\n",
       "\n",
       "    .dataframe tbody tr th {\n",
       "        vertical-align: top;\n",
       "    }\n",
       "\n",
       "    .dataframe thead th {\n",
       "        text-align: right;\n",
       "    }\n",
       "</style>\n",
       "<table border=\"1\" class=\"dataframe\">\n",
       "  <thead>\n",
       "    <tr style=\"text-align: right;\">\n",
       "      <th></th>\n",
       "      <th>original</th>\n",
       "      <th>negative</th>\n",
       "      <th>double</th>\n",
       "      <th>squared</th>\n",
       "      <th>root</th>\n",
       "      <th>exp</th>\n",
       "      <th>log</th>\n",
       "      <th>noiseSmall</th>\n",
       "      <th>noiseMedium</th>\n",
       "      <th>noiseHeavy</th>\n",
       "    </tr>\n",
       "  </thead>\n",
       "  <tbody>\n",
       "    <tr>\n",
       "      <th>0</th>\n",
       "      <td>1</td>\n",
       "      <td>-1</td>\n",
       "      <td>2</td>\n",
       "      <td>1</td>\n",
       "      <td>1.000000</td>\n",
       "      <td>2</td>\n",
       "      <td>0.000000</td>\n",
       "      <td>7</td>\n",
       "      <td>86</td>\n",
       "      <td>250</td>\n",
       "    </tr>\n",
       "    <tr>\n",
       "      <th>1</th>\n",
       "      <td>2</td>\n",
       "      <td>-2</td>\n",
       "      <td>4</td>\n",
       "      <td>4</td>\n",
       "      <td>1.414214</td>\n",
       "      <td>4</td>\n",
       "      <td>1.000000</td>\n",
       "      <td>6</td>\n",
       "      <td>20</td>\n",
       "      <td>592</td>\n",
       "    </tr>\n",
       "    <tr>\n",
       "      <th>2</th>\n",
       "      <td>3</td>\n",
       "      <td>-3</td>\n",
       "      <td>6</td>\n",
       "      <td>9</td>\n",
       "      <td>1.732051</td>\n",
       "      <td>8</td>\n",
       "      <td>1.584963</td>\n",
       "      <td>11</td>\n",
       "      <td>33</td>\n",
       "      <td>221</td>\n",
       "    </tr>\n",
       "    <tr>\n",
       "      <th>3</th>\n",
       "      <td>4</td>\n",
       "      <td>-4</td>\n",
       "      <td>8</td>\n",
       "      <td>16</td>\n",
       "      <td>2.000000</td>\n",
       "      <td>16</td>\n",
       "      <td>2.000000</td>\n",
       "      <td>9</td>\n",
       "      <td>46</td>\n",
       "      <td>161</td>\n",
       "    </tr>\n",
       "    <tr>\n",
       "      <th>4</th>\n",
       "      <td>5</td>\n",
       "      <td>-5</td>\n",
       "      <td>10</td>\n",
       "      <td>25</td>\n",
       "      <td>2.236068</td>\n",
       "      <td>32</td>\n",
       "      <td>2.321928</td>\n",
       "      <td>8</td>\n",
       "      <td>71</td>\n",
       "      <td>206</td>\n",
       "    </tr>\n",
       "  </tbody>\n",
       "</table>\n",
       "</div>"
      ],
      "text/plain": [
       "   original  negative  double  squared      root  exp       log  noiseSmall  \\\n",
       "0         1        -1       2        1  1.000000    2  0.000000           7   \n",
       "1         2        -2       4        4  1.414214    4  1.000000           6   \n",
       "2         3        -3       6        9  1.732051    8  1.584963          11   \n",
       "3         4        -4       8       16  2.000000   16  2.000000           9   \n",
       "4         5        -5      10       25  2.236068   32  2.321928           8   \n",
       "\n",
       "   noiseMedium  noiseHeavy  \n",
       "0           86         250  \n",
       "1           20         592  \n",
       "2           33         221  \n",
       "3           46         161  \n",
       "4           71         206  "
      ]
     },
     "execution_count": 10,
     "metadata": {},
     "output_type": "execute_result"
    }
   ],
   "source": [
    "exampleDataFrame.head()"
   ]
  },
  {
   "cell_type": "code",
   "execution_count": 11,
   "metadata": {},
   "outputs": [
    {
     "data": {
      "text/html": [
       "<style type=\"text/css\">\n",
       "#T_3d417_row0_col0, #T_3d417_row0_col2, #T_3d417_row0_col7, #T_3d417_row1_col1, #T_3d417_row2_col0, #T_3d417_row2_col2, #T_3d417_row2_col7, #T_3d417_row3_col3, #T_3d417_row4_col4, #T_3d417_row5_col5, #T_3d417_row6_col6, #T_3d417_row7_col0, #T_3d417_row7_col2, #T_3d417_row7_col7, #T_3d417_row8_col8, #T_3d417_row9_col9 {\n",
       "  background-color: #b40426;\n",
       "  color: #f1f1f1;\n",
       "}\n",
       "#T_3d417_row0_col1, #T_3d417_row1_col0, #T_3d417_row1_col2, #T_3d417_row1_col7, #T_3d417_row2_col1, #T_3d417_row7_col1 {\n",
       "  background-color: #3b4cc0;\n",
       "  color: #f1f1f1;\n",
       "}\n",
       "#T_3d417_row0_col3, #T_3d417_row2_col3, #T_3d417_row3_col0, #T_3d417_row3_col2, #T_3d417_row4_col7, #T_3d417_row7_col4 {\n",
       "  background-color: #b8122a;\n",
       "  color: #f1f1f1;\n",
       "}\n",
       "#T_3d417_row0_col4, #T_3d417_row2_col4, #T_3d417_row4_col0, #T_3d417_row4_col2 {\n",
       "  background-color: #b70d28;\n",
       "  color: #f1f1f1;\n",
       "}\n",
       "#T_3d417_row0_col5, #T_3d417_row2_col5, #T_3d417_row3_col5, #T_3d417_row4_col5, #T_3d417_row5_col0, #T_3d417_row5_col2, #T_3d417_row5_col3, #T_3d417_row5_col4, #T_3d417_row5_col6, #T_3d417_row6_col5 {\n",
       "  background-color: #dcdddd;\n",
       "  color: #000000;\n",
       "}\n",
       "#T_3d417_row0_col6, #T_3d417_row2_col6, #T_3d417_row6_col0, #T_3d417_row6_col2 {\n",
       "  background-color: #c73635;\n",
       "  color: #f1f1f1;\n",
       "}\n",
       "#T_3d417_row0_col8, #T_3d417_row2_col8, #T_3d417_row8_col0, #T_3d417_row8_col2 {\n",
       "  background-color: #e36c55;\n",
       "  color: #f1f1f1;\n",
       "}\n",
       "#T_3d417_row0_col9, #T_3d417_row2_col9, #T_3d417_row7_col9, #T_3d417_row9_col0, #T_3d417_row9_col2, #T_3d417_row9_col7 {\n",
       "  background-color: #e2dad5;\n",
       "  color: #000000;\n",
       "}\n",
       "#T_3d417_row1_col3, #T_3d417_row3_col1 {\n",
       "  background-color: #3e51c5;\n",
       "  color: #f1f1f1;\n",
       "}\n",
       "#T_3d417_row1_col4, #T_3d417_row4_col1 {\n",
       "  background-color: #3d50c3;\n",
       "  color: #f1f1f1;\n",
       "}\n",
       "#T_3d417_row1_col5, #T_3d417_row5_col1, #T_3d417_row5_col7, #T_3d417_row7_col5 {\n",
       "  background-color: #dddcdc;\n",
       "  color: #000000;\n",
       "}\n",
       "#T_3d417_row1_col6, #T_3d417_row6_col1 {\n",
       "  background-color: #4a63d3;\n",
       "  color: #f1f1f1;\n",
       "}\n",
       "#T_3d417_row1_col8, #T_3d417_row8_col1 {\n",
       "  background-color: #6a8bef;\n",
       "  color: #f1f1f1;\n",
       "}\n",
       "#T_3d417_row1_col9, #T_3d417_row9_col1 {\n",
       "  background-color: #d7dce3;\n",
       "  color: #000000;\n",
       "}\n",
       "#T_3d417_row3_col4, #T_3d417_row4_col3 {\n",
       "  background-color: #c43032;\n",
       "  color: #f1f1f1;\n",
       "}\n",
       "#T_3d417_row3_col6, #T_3d417_row6_col3 {\n",
       "  background-color: #d95847;\n",
       "  color: #f1f1f1;\n",
       "}\n",
       "#T_3d417_row3_col7, #T_3d417_row4_col6, #T_3d417_row6_col4, #T_3d417_row7_col3 {\n",
       "  background-color: #ba162b;\n",
       "  color: #f1f1f1;\n",
       "}\n",
       "#T_3d417_row3_col8, #T_3d417_row8_col3 {\n",
       "  background-color: #e7745b;\n",
       "  color: #f1f1f1;\n",
       "}\n",
       "#T_3d417_row3_col9, #T_3d417_row5_col8, #T_3d417_row8_col5, #T_3d417_row9_col3 {\n",
       "  background-color: #e6d7cf;\n",
       "  color: #000000;\n",
       "}\n",
       "#T_3d417_row4_col8, #T_3d417_row7_col8, #T_3d417_row8_col4, #T_3d417_row8_col7 {\n",
       "  background-color: #e46e56;\n",
       "  color: #f1f1f1;\n",
       "}\n",
       "#T_3d417_row4_col9, #T_3d417_row8_col9, #T_3d417_row9_col4, #T_3d417_row9_col8 {\n",
       "  background-color: #e1dad6;\n",
       "  color: #000000;\n",
       "}\n",
       "#T_3d417_row5_col9, #T_3d417_row9_col5 {\n",
       "  background-color: #d5dbe5;\n",
       "  color: #000000;\n",
       "}\n",
       "#T_3d417_row6_col7, #T_3d417_row7_col6 {\n",
       "  background-color: #c83836;\n",
       "  color: #f1f1f1;\n",
       "}\n",
       "#T_3d417_row6_col8, #T_3d417_row8_col6 {\n",
       "  background-color: #ea7b60;\n",
       "  color: #f1f1f1;\n",
       "}\n",
       "#T_3d417_row6_col9, #T_3d417_row9_col6 {\n",
       "  background-color: #e3d9d3;\n",
       "  color: #000000;\n",
       "}\n",
       "</style>\n",
       "<table id=\"T_3d417\">\n",
       "  <thead>\n",
       "    <tr>\n",
       "      <th class=\"blank level0\" >&nbsp;</th>\n",
       "      <th id=\"T_3d417_level0_col0\" class=\"col_heading level0 col0\" >original</th>\n",
       "      <th id=\"T_3d417_level0_col1\" class=\"col_heading level0 col1\" >negative</th>\n",
       "      <th id=\"T_3d417_level0_col2\" class=\"col_heading level0 col2\" >double</th>\n",
       "      <th id=\"T_3d417_level0_col3\" class=\"col_heading level0 col3\" >squared</th>\n",
       "      <th id=\"T_3d417_level0_col4\" class=\"col_heading level0 col4\" >root</th>\n",
       "      <th id=\"T_3d417_level0_col5\" class=\"col_heading level0 col5\" >exp</th>\n",
       "      <th id=\"T_3d417_level0_col6\" class=\"col_heading level0 col6\" >log</th>\n",
       "      <th id=\"T_3d417_level0_col7\" class=\"col_heading level0 col7\" >noiseSmall</th>\n",
       "      <th id=\"T_3d417_level0_col8\" class=\"col_heading level0 col8\" >noiseMedium</th>\n",
       "      <th id=\"T_3d417_level0_col9\" class=\"col_heading level0 col9\" >noiseHeavy</th>\n",
       "    </tr>\n",
       "  </thead>\n",
       "  <tbody>\n",
       "    <tr>\n",
       "      <th id=\"T_3d417_level0_row0\" class=\"row_heading level0 row0\" >original</th>\n",
       "      <td id=\"T_3d417_row0_col0\" class=\"data row0 col0\" >1.00</td>\n",
       "      <td id=\"T_3d417_row0_col1\" class=\"data row0 col1\" >-1.00</td>\n",
       "      <td id=\"T_3d417_row0_col2\" class=\"data row0 col2\" >1.00</td>\n",
       "      <td id=\"T_3d417_row0_col3\" class=\"data row0 col3\" >0.97</td>\n",
       "      <td id=\"T_3d417_row0_col4\" class=\"data row0 col4\" >0.98</td>\n",
       "      <td id=\"T_3d417_row0_col5\" class=\"data row0 col5\" >-0.01</td>\n",
       "      <td id=\"T_3d417_row0_col6\" class=\"data row0 col6\" >0.90</td>\n",
       "      <td id=\"T_3d417_row0_col7\" class=\"data row0 col7\" >1.00</td>\n",
       "      <td id=\"T_3d417_row0_col8\" class=\"data row0 col8\" >0.70</td>\n",
       "      <td id=\"T_3d417_row0_col9\" class=\"data row0 col9\" >0.04</td>\n",
       "    </tr>\n",
       "    <tr>\n",
       "      <th id=\"T_3d417_level0_row1\" class=\"row_heading level0 row1\" >negative</th>\n",
       "      <td id=\"T_3d417_row1_col0\" class=\"data row1 col0\" >-1.00</td>\n",
       "      <td id=\"T_3d417_row1_col1\" class=\"data row1 col1\" >1.00</td>\n",
       "      <td id=\"T_3d417_row1_col2\" class=\"data row1 col2\" >-1.00</td>\n",
       "      <td id=\"T_3d417_row1_col3\" class=\"data row1 col3\" >-0.97</td>\n",
       "      <td id=\"T_3d417_row1_col4\" class=\"data row1 col4\" >-0.98</td>\n",
       "      <td id=\"T_3d417_row1_col5\" class=\"data row1 col5\" >0.01</td>\n",
       "      <td id=\"T_3d417_row1_col6\" class=\"data row1 col6\" >-0.90</td>\n",
       "      <td id=\"T_3d417_row1_col7\" class=\"data row1 col7\" >-1.00</td>\n",
       "      <td id=\"T_3d417_row1_col8\" class=\"data row1 col8\" >-0.70</td>\n",
       "      <td id=\"T_3d417_row1_col9\" class=\"data row1 col9\" >-0.04</td>\n",
       "    </tr>\n",
       "    <tr>\n",
       "      <th id=\"T_3d417_level0_row2\" class=\"row_heading level0 row2\" >double</th>\n",
       "      <td id=\"T_3d417_row2_col0\" class=\"data row2 col0\" >1.00</td>\n",
       "      <td id=\"T_3d417_row2_col1\" class=\"data row2 col1\" >-1.00</td>\n",
       "      <td id=\"T_3d417_row2_col2\" class=\"data row2 col2\" >1.00</td>\n",
       "      <td id=\"T_3d417_row2_col3\" class=\"data row2 col3\" >0.97</td>\n",
       "      <td id=\"T_3d417_row2_col4\" class=\"data row2 col4\" >0.98</td>\n",
       "      <td id=\"T_3d417_row2_col5\" class=\"data row2 col5\" >-0.01</td>\n",
       "      <td id=\"T_3d417_row2_col6\" class=\"data row2 col6\" >0.90</td>\n",
       "      <td id=\"T_3d417_row2_col7\" class=\"data row2 col7\" >1.00</td>\n",
       "      <td id=\"T_3d417_row2_col8\" class=\"data row2 col8\" >0.70</td>\n",
       "      <td id=\"T_3d417_row2_col9\" class=\"data row2 col9\" >0.04</td>\n",
       "    </tr>\n",
       "    <tr>\n",
       "      <th id=\"T_3d417_level0_row3\" class=\"row_heading level0 row3\" >squared</th>\n",
       "      <td id=\"T_3d417_row3_col0\" class=\"data row3 col0\" >0.97</td>\n",
       "      <td id=\"T_3d417_row3_col1\" class=\"data row3 col1\" >-0.97</td>\n",
       "      <td id=\"T_3d417_row3_col2\" class=\"data row3 col2\" >0.97</td>\n",
       "      <td id=\"T_3d417_row3_col3\" class=\"data row3 col3\" >1.00</td>\n",
       "      <td id=\"T_3d417_row3_col4\" class=\"data row3 col4\" >0.91</td>\n",
       "      <td id=\"T_3d417_row3_col5\" class=\"data row3 col5\" >-0.01</td>\n",
       "      <td id=\"T_3d417_row3_col6\" class=\"data row3 col6\" >0.78</td>\n",
       "      <td id=\"T_3d417_row3_col7\" class=\"data row3 col7\" >0.97</td>\n",
       "      <td id=\"T_3d417_row3_col8\" class=\"data row3 col8\" >0.66</td>\n",
       "      <td id=\"T_3d417_row3_col9\" class=\"data row3 col9\" >0.07</td>\n",
       "    </tr>\n",
       "    <tr>\n",
       "      <th id=\"T_3d417_level0_row4\" class=\"row_heading level0 row4\" >root</th>\n",
       "      <td id=\"T_3d417_row4_col0\" class=\"data row4 col0\" >0.98</td>\n",
       "      <td id=\"T_3d417_row4_col1\" class=\"data row4 col1\" >-0.98</td>\n",
       "      <td id=\"T_3d417_row4_col2\" class=\"data row4 col2\" >0.98</td>\n",
       "      <td id=\"T_3d417_row4_col3\" class=\"data row4 col3\" >0.91</td>\n",
       "      <td id=\"T_3d417_row4_col4\" class=\"data row4 col4\" >1.00</td>\n",
       "      <td id=\"T_3d417_row4_col5\" class=\"data row4 col5\" >-0.00</td>\n",
       "      <td id=\"T_3d417_row4_col6\" class=\"data row4 col6\" >0.96</td>\n",
       "      <td id=\"T_3d417_row4_col7\" class=\"data row4 col7\" >0.97</td>\n",
       "      <td id=\"T_3d417_row4_col8\" class=\"data row4 col8\" >0.69</td>\n",
       "      <td id=\"T_3d417_row4_col9\" class=\"data row4 col9\" >0.04</td>\n",
       "    </tr>\n",
       "    <tr>\n",
       "      <th id=\"T_3d417_level0_row5\" class=\"row_heading level0 row5\" >exp</th>\n",
       "      <td id=\"T_3d417_row5_col0\" class=\"data row5 col0\" >-0.01</td>\n",
       "      <td id=\"T_3d417_row5_col1\" class=\"data row5 col1\" >0.01</td>\n",
       "      <td id=\"T_3d417_row5_col2\" class=\"data row5 col2\" >-0.01</td>\n",
       "      <td id=\"T_3d417_row5_col3\" class=\"data row5 col3\" >-0.01</td>\n",
       "      <td id=\"T_3d417_row5_col4\" class=\"data row5 col4\" >-0.00</td>\n",
       "      <td id=\"T_3d417_row5_col5\" class=\"data row5 col5\" >1.00</td>\n",
       "      <td id=\"T_3d417_row5_col6\" class=\"data row5 col6\" >-0.00</td>\n",
       "      <td id=\"T_3d417_row5_col7\" class=\"data row5 col7\" >0.00</td>\n",
       "      <td id=\"T_3d417_row5_col8\" class=\"data row5 col8\" >0.08</td>\n",
       "      <td id=\"T_3d417_row5_col9\" class=\"data row5 col9\" >-0.06</td>\n",
       "    </tr>\n",
       "    <tr>\n",
       "      <th id=\"T_3d417_level0_row6\" class=\"row_heading level0 row6\" >log</th>\n",
       "      <td id=\"T_3d417_row6_col0\" class=\"data row6 col0\" >0.90</td>\n",
       "      <td id=\"T_3d417_row6_col1\" class=\"data row6 col1\" >-0.90</td>\n",
       "      <td id=\"T_3d417_row6_col2\" class=\"data row6 col2\" >0.90</td>\n",
       "      <td id=\"T_3d417_row6_col3\" class=\"data row6 col3\" >0.78</td>\n",
       "      <td id=\"T_3d417_row6_col4\" class=\"data row6 col4\" >0.96</td>\n",
       "      <td id=\"T_3d417_row6_col5\" class=\"data row6 col5\" >-0.00</td>\n",
       "      <td id=\"T_3d417_row6_col6\" class=\"data row6 col6\" >1.00</td>\n",
       "      <td id=\"T_3d417_row6_col7\" class=\"data row6 col7\" >0.89</td>\n",
       "      <td id=\"T_3d417_row6_col8\" class=\"data row6 col8\" >0.63</td>\n",
       "      <td id=\"T_3d417_row6_col9\" class=\"data row6 col9\" >0.05</td>\n",
       "    </tr>\n",
       "    <tr>\n",
       "      <th id=\"T_3d417_level0_row7\" class=\"row_heading level0 row7\" >noiseSmall</th>\n",
       "      <td id=\"T_3d417_row7_col0\" class=\"data row7 col0\" >1.00</td>\n",
       "      <td id=\"T_3d417_row7_col1\" class=\"data row7 col1\" >-1.00</td>\n",
       "      <td id=\"T_3d417_row7_col2\" class=\"data row7 col2\" >1.00</td>\n",
       "      <td id=\"T_3d417_row7_col3\" class=\"data row7 col3\" >0.97</td>\n",
       "      <td id=\"T_3d417_row7_col4\" class=\"data row7 col4\" >0.97</td>\n",
       "      <td id=\"T_3d417_row7_col5\" class=\"data row7 col5\" >0.00</td>\n",
       "      <td id=\"T_3d417_row7_col6\" class=\"data row7 col6\" >0.89</td>\n",
       "      <td id=\"T_3d417_row7_col7\" class=\"data row7 col7\" >1.00</td>\n",
       "      <td id=\"T_3d417_row7_col8\" class=\"data row7 col8\" >0.69</td>\n",
       "      <td id=\"T_3d417_row7_col9\" class=\"data row7 col9\" >0.04</td>\n",
       "    </tr>\n",
       "    <tr>\n",
       "      <th id=\"T_3d417_level0_row8\" class=\"row_heading level0 row8\" >noiseMedium</th>\n",
       "      <td id=\"T_3d417_row8_col0\" class=\"data row8 col0\" >0.70</td>\n",
       "      <td id=\"T_3d417_row8_col1\" class=\"data row8 col1\" >-0.70</td>\n",
       "      <td id=\"T_3d417_row8_col2\" class=\"data row8 col2\" >0.70</td>\n",
       "      <td id=\"T_3d417_row8_col3\" class=\"data row8 col3\" >0.66</td>\n",
       "      <td id=\"T_3d417_row8_col4\" class=\"data row8 col4\" >0.69</td>\n",
       "      <td id=\"T_3d417_row8_col5\" class=\"data row8 col5\" >0.08</td>\n",
       "      <td id=\"T_3d417_row8_col6\" class=\"data row8 col6\" >0.63</td>\n",
       "      <td id=\"T_3d417_row8_col7\" class=\"data row8 col7\" >0.69</td>\n",
       "      <td id=\"T_3d417_row8_col8\" class=\"data row8 col8\" >1.00</td>\n",
       "      <td id=\"T_3d417_row8_col9\" class=\"data row8 col9\" >0.04</td>\n",
       "    </tr>\n",
       "    <tr>\n",
       "      <th id=\"T_3d417_level0_row9\" class=\"row_heading level0 row9\" >noiseHeavy</th>\n",
       "      <td id=\"T_3d417_row9_col0\" class=\"data row9 col0\" >0.04</td>\n",
       "      <td id=\"T_3d417_row9_col1\" class=\"data row9 col1\" >-0.04</td>\n",
       "      <td id=\"T_3d417_row9_col2\" class=\"data row9 col2\" >0.04</td>\n",
       "      <td id=\"T_3d417_row9_col3\" class=\"data row9 col3\" >0.07</td>\n",
       "      <td id=\"T_3d417_row9_col4\" class=\"data row9 col4\" >0.04</td>\n",
       "      <td id=\"T_3d417_row9_col5\" class=\"data row9 col5\" >-0.06</td>\n",
       "      <td id=\"T_3d417_row9_col6\" class=\"data row9 col6\" >0.05</td>\n",
       "      <td id=\"T_3d417_row9_col7\" class=\"data row9 col7\" >0.04</td>\n",
       "      <td id=\"T_3d417_row9_col8\" class=\"data row9 col8\" >0.04</td>\n",
       "      <td id=\"T_3d417_row9_col9\" class=\"data row9 col9\" >1.00</td>\n",
       "    </tr>\n",
       "  </tbody>\n",
       "</table>\n"
      ],
      "text/plain": [
       "<pandas.io.formats.style.Styler at 0x14b2dc9afc0>"
      ]
     },
     "execution_count": 11,
     "metadata": {},
     "output_type": "execute_result"
    }
   ],
   "source": [
    "exampleDataCorrelations = exampleDataFrame.corr(numeric_only=True)\n",
    "exampleDataCorrelations.style.background_gradient(cmap='coolwarm', axis=None).format(precision=2)"
   ]
  },
  {
   "cell_type": "code",
   "execution_count": 12,
   "metadata": {
    "scrolled": true
   },
   "outputs": [
    {
     "data": {
      "text/plain": [
       "<Axes: >"
      ]
     },
     "execution_count": 12,
     "metadata": {},
     "output_type": "execute_result"
    },
    {
     "data": {
      "image/png": "[encoded data removed]",
      "text/plain": [
       "<Figure size 1500x800 with 1 Axes>"
      ]
     },
     "metadata": {},
     "output_type": "display_data"
    }
   ],
   "source": [
    "# Excluding a couple of columns because their values are too high to show in the same plot\n",
    "exampleDataFrame.drop(['exp', 'squared' , 'noiseHeavy'], axis=1).plot(figsize=(15,8))"
   ]
  },
  {
   "cell_type": "markdown",
   "metadata": {},
   "source": [
    "### Portfolio assignment 9\n",
    "25 min: Perform a bivariate analysis on the columns with numerical data in the penguins dataset.\n",
    "- Use corr() on the DataFrame to calculate all the correlations. Use the code example above to show the correlation table with colors.\n",
    "- Look at the corrrelations. Do they match your expectations?\n",
    "- Show a scatter plot for:\n",
    "   - The strongest positive correlation\n",
    "   - The strongest negative correlation\n",
    "   - The weakest correlation"
   ]
  },
  {
   "cell_type": "code",
   "execution_count": 13,
   "metadata": {},
   "outputs": [
    {
     "data": {
      "text/html": [
       "<div>\n",
       "<style scoped>\n",
       "    .dataframe tbody tr th:only-of-type {\n",
       "        vertical-align: middle;\n",
       "    }\n",
       "\n",
       "    .dataframe tbody tr th {\n",
       "        vertical-align: top;\n",
       "    }\n",
       "\n",
       "    .dataframe thead th {\n",
       "        text-align: right;\n",
       "    }\n",
       "</style>\n",
       "<table border=\"1\" class=\"dataframe\">\n",
       "  <thead>\n",
       "    <tr style=\"text-align: right;\">\n",
       "      <th></th>\n",
       "      <th>species</th>\n",
       "      <th>island</th>\n",
       "      <th>bill_length_mm</th>\n",
       "      <th>bill_depth_mm</th>\n",
       "      <th>flipper_length_mm</th>\n",
       "      <th>body_mass_g</th>\n",
       "      <th>sex</th>\n",
       "    </tr>\n",
       "  </thead>\n",
       "  <tbody>\n",
       "    <tr>\n",
       "      <th>0</th>\n",
       "      <td>Adelie</td>\n",
       "      <td>Torgersen</td>\n",
       "      <td>39.1</td>\n",
       "      <td>18.7</td>\n",
       "      <td>181.0</td>\n",
       "      <td>3750.0</td>\n",
       "      <td>Male</td>\n",
       "    </tr>\n",
       "    <tr>\n",
       "      <th>1</th>\n",
       "      <td>Adelie</td>\n",
       "      <td>Torgersen</td>\n",
       "      <td>39.5</td>\n",
       "      <td>17.4</td>\n",
       "      <td>186.0</td>\n",
       "      <td>3800.0</td>\n",
       "      <td>Female</td>\n",
       "    </tr>\n",
       "    <tr>\n",
       "      <th>2</th>\n",
       "      <td>Adelie</td>\n",
       "      <td>Torgersen</td>\n",
       "      <td>40.3</td>\n",
       "      <td>18.0</td>\n",
       "      <td>195.0</td>\n",
       "      <td>3250.0</td>\n",
       "      <td>Female</td>\n",
       "    </tr>\n",
       "    <tr>\n",
       "      <th>3</th>\n",
       "      <td>Adelie</td>\n",
       "      <td>Torgersen</td>\n",
       "      <td>NaN</td>\n",
       "      <td>NaN</td>\n",
       "      <td>NaN</td>\n",
       "      <td>NaN</td>\n",
       "      <td>NaN</td>\n",
       "    </tr>\n",
       "    <tr>\n",
       "      <th>4</th>\n",
       "      <td>Adelie</td>\n",
       "      <td>Torgersen</td>\n",
       "      <td>36.7</td>\n",
       "      <td>19.3</td>\n",
       "      <td>193.0</td>\n",
       "      <td>3450.0</td>\n",
       "      <td>Female</td>\n",
       "    </tr>\n",
       "  </tbody>\n",
       "</table>\n",
       "</div>"
      ],
      "text/plain": [
       "  species     island  bill_length_mm  bill_depth_mm  flipper_length_mm  \\\n",
       "0  Adelie  Torgersen            39.1           18.7              181.0   \n",
       "1  Adelie  Torgersen            39.5           17.4              186.0   \n",
       "2  Adelie  Torgersen            40.3           18.0              195.0   \n",
       "3  Adelie  Torgersen             NaN            NaN                NaN   \n",
       "4  Adelie  Torgersen            36.7           19.3              193.0   \n",
       "\n",
       "   body_mass_g     sex  \n",
       "0       3750.0    Male  \n",
       "1       3800.0  Female  \n",
       "2       3250.0  Female  \n",
       "3          NaN     NaN  \n",
       "4       3450.0  Female  "
      ]
     },
     "execution_count": 13,
     "metadata": {},
     "output_type": "execute_result"
    }
   ],
   "source": [
    "penguins = sns.load_dataset(\"penguins\")\n",
    "penguins.head()"
   ]
  },
  {
   "cell_type": "markdown",
   "metadata": {},
   "source": [
    "![](https://user-images.githubusercontent.com/54525819/139198017-769e8f61-2e58-48a9-947d-fd22947a6548.png)"
   ]
  },
  {
   "cell_type": "markdown",
   "metadata": {},
   "source": [
    "![](https://i.imgur.com/0v1CGNV.png)<br>\n",
    "Assumption: ...<br>\n",
    "Findings: ...<br>"
   ]
  },
  {
   "cell_type": "markdown",
   "metadata": {},
   "source": [
    "### Portfolio assignment 10\n",
    "15 min: Perform a bivariate analysis (Pearson correlation and scatter plot) on at least 1 combination of 2 columns with numeric data in the dataset that you chose in portfolio assignment 4. Does the correlation and scatter plot match your expectations? Add your answer to your notebook. Commit the Notebook to your portfolio when you're finished. "
   ]
  },
  {
   "cell_type": "markdown",
   "metadata": {},
   "source": [
    "![](https://i.imgur.com/0v1CGNV.png)<br>\n",
    "Assumption: ...<br>\n",
    "Findings: ...<br>"
   ]
  },
  {
   "cell_type": "markdown",
   "metadata": {},
   "source": [
    "## Numerical vs Categorical"
   ]
  },
  {
   "cell_type": "markdown",
   "metadata": {},
   "source": [
    "Examples:\n",
    "- Monthly earnings VS Highest obtained degree\n",
    "- Body length VS Country of origin\n",
    "- Happiness rating VS Country of origin\n",
    "- Sales VS Account Manager. \n",
    "- Revenue VS Product Category\n",
    "- Revenue VS Game genre\n",
    "- Retention VS Software version\n",
    "- ...\n",
    "\n",
    "In univariate analysis for numerical data we've looked at confidence intervals. We can use these as well to check if there are any signicant differences between categories."
   ]
  },
  {
   "cell_type": "markdown",
   "metadata": {},
   "source": [
    "You and I are are going to roll a 6-sided die. The numerical variable is the value we roll and the categorical variable is who rolled it. We know that in reality the average value of a 6-sided die is 3.5 (=(1+2+3+4+5+6)/6). We know that there is no skill involved, so who rolls the die should have no impact on the result. We each roll the die 3 times.\n",
    "    <img src=\"https://wherethewindsblow.com/wp-content/uploads/2015/07/JUMBO-Six-sided-white-dice.jpg\" style=\"width: 300px;\"/>"
   ]
  },
  {
   "cell_type": "code",
   "execution_count": 14,
   "metadata": {
    "scrolled": true
   },
   "outputs": [
    {
     "data": {
      "text/html": [
       "<div>\n",
       "<style scoped>\n",
       "    .dataframe tbody tr th:only-of-type {\n",
       "        vertical-align: middle;\n",
       "    }\n",
       "\n",
       "    .dataframe tbody tr th {\n",
       "        vertical-align: top;\n",
       "    }\n",
       "\n",
       "    .dataframe thead th {\n",
       "        text-align: right;\n",
       "    }\n",
       "</style>\n",
       "<table border=\"1\" class=\"dataframe\">\n",
       "  <thead>\n",
       "    <tr style=\"text-align: right;\">\n",
       "      <th></th>\n",
       "      <th>Person</th>\n",
       "      <th>Rolls</th>\n",
       "    </tr>\n",
       "  </thead>\n",
       "  <tbody>\n",
       "    <tr>\n",
       "      <th>0</th>\n",
       "      <td>you</td>\n",
       "      <td>6</td>\n",
       "    </tr>\n",
       "    <tr>\n",
       "      <th>1</th>\n",
       "      <td>you</td>\n",
       "      <td>3</td>\n",
       "    </tr>\n",
       "    <tr>\n",
       "      <th>2</th>\n",
       "      <td>you</td>\n",
       "      <td>6</td>\n",
       "    </tr>\n",
       "    <tr>\n",
       "      <th>3</th>\n",
       "      <td>me</td>\n",
       "      <td>2</td>\n",
       "    </tr>\n",
       "    <tr>\n",
       "      <th>4</th>\n",
       "      <td>me</td>\n",
       "      <td>4</td>\n",
       "    </tr>\n",
       "    <tr>\n",
       "      <th>5</th>\n",
       "      <td>me</td>\n",
       "      <td>2</td>\n",
       "    </tr>\n",
       "  </tbody>\n",
       "</table>\n",
       "</div>"
      ],
      "text/plain": [
       "  Person  Rolls\n",
       "0    you      6\n",
       "1    you      3\n",
       "2    you      6\n",
       "3     me      2\n",
       "4     me      4\n",
       "5     me      2"
      ]
     },
     "execution_count": 14,
     "metadata": {},
     "output_type": "execute_result"
    }
   ],
   "source": [
    "diceRolls = pd.DataFrame(data= {'Person': ['you', 'you', 'you', 'me','me','me'], 'Rolls': [6,3,6,2,4,2]})\n",
    "diceRolls"
   ]
  },
  {
   "cell_type": "code",
   "execution_count": 15,
   "metadata": {
    "scrolled": true
   },
   "outputs": [
    {
     "data": {
      "text/html": [
       "<div>\n",
       "<style scoped>\n",
       "    .dataframe tbody tr th:only-of-type {\n",
       "        vertical-align: middle;\n",
       "    }\n",
       "\n",
       "    .dataframe tbody tr th {\n",
       "        vertical-align: top;\n",
       "    }\n",
       "\n",
       "    .dataframe thead th {\n",
       "        text-align: right;\n",
       "    }\n",
       "</style>\n",
       "<table border=\"1\" class=\"dataframe\">\n",
       "  <thead>\n",
       "    <tr style=\"text-align: right;\">\n",
       "      <th></th>\n",
       "      <th>Rolls</th>\n",
       "    </tr>\n",
       "    <tr>\n",
       "      <th>Person</th>\n",
       "      <th></th>\n",
       "    </tr>\n",
       "  </thead>\n",
       "  <tbody>\n",
       "    <tr>\n",
       "      <th>me</th>\n",
       "      <td>2.666667</td>\n",
       "    </tr>\n",
       "    <tr>\n",
       "      <th>you</th>\n",
       "      <td>5.000000</td>\n",
       "    </tr>\n",
       "  </tbody>\n",
       "</table>\n",
       "</div>"
      ],
      "text/plain": [
       "           Rolls\n",
       "Person          \n",
       "me      2.666667\n",
       "you     5.000000"
      ]
     },
     "execution_count": 15,
     "metadata": {},
     "output_type": "execute_result"
    }
   ],
   "source": [
    "diceRolls.groupby(by=\"Person\").mean()"
   ]
  },
  {
   "cell_type": "markdown",
   "metadata": {},
   "source": [
    "Looks like you rolled an average value of 5 and I rolled an average value of ~2.7. Does this mean you are better at rolling dice than me?\n",
    "\n",
    "```seaborn.barplot()``` is a function from the Seaborn library that creates a bar chart — it's great for visualizing comparisons between categories.\n",
    "\n",
    "Unlike basic bar plots, Seaborn's barplot():\n",
    "- Can automatically calculate averages if you give it multiple values per category\n",
    "- Adds error bars (**by default, 95% confidence intervals**)\n",
    "\n",
    "If you're plotting the average dice rolls per person, the bar height shows the average — and the error bar shows how much that average might vary if you repeated the experiment.\n",
    "So if you hav a bar at 5, and the error bar goes from 3 to 5, it means:\n",
    "\n",
    "**“We’re fairly confident the true average rolls for you is between 3 and 5.”**"
   ]
  },
  {
   "cell_type": "code",
   "execution_count": 16,
   "metadata": {
    "scrolled": true
   },
   "outputs": [
    {
     "data": {
      "text/plain": [
       "<Axes: xlabel='Person', ylabel='Rolls'>"
      ]
     },
     "execution_count": 16,
     "metadata": {},
     "output_type": "execute_result"
    },
    {
     "data": {
      "image/png": "[encoded data removed]",
      "text/plain": [
       "<Figure size 640x480 with 1 Axes>"
      ]
     },
     "metadata": {},
     "output_type": "display_data"
    }
   ],
   "source": [
    "sns.barplot(x=\"Person\", y=\"Rolls\", data=diceRolls)"
   ]
  },
  {
   "cell_type": "markdown",
   "metadata": {},
   "source": [
    "The confidence intervals overlap. This means that we can not yet be sure that you're a better dice roller than me. If we want the confidence intervals to become smaller, we'll need more data which means we need to do more dice rolls."
   ]
  },
  {
   "cell_type": "markdown",
   "metadata": {},
   "source": [
    "Let's look if there are significant difference between iris species."
   ]
  },
  {
   "cell_type": "code",
   "execution_count": 18,
   "metadata": {},
   "outputs": [
    {
     "data": {
      "text/html": [
       "<div>\n",
       "<style scoped>\n",
       "    .dataframe tbody tr th:only-of-type {\n",
       "        vertical-align: middle;\n",
       "    }\n",
       "\n",
       "    .dataframe tbody tr th {\n",
       "        vertical-align: top;\n",
       "    }\n",
       "\n",
       "    .dataframe thead th {\n",
       "        text-align: right;\n",
       "    }\n",
       "</style>\n",
       "<table border=\"1\" class=\"dataframe\">\n",
       "  <thead>\n",
       "    <tr style=\"text-align: right;\">\n",
       "      <th></th>\n",
       "      <th>sepal_length</th>\n",
       "      <th>sepal_width</th>\n",
       "      <th>petal_length</th>\n",
       "      <th>petal_width</th>\n",
       "      <th>species</th>\n",
       "    </tr>\n",
       "  </thead>\n",
       "  <tbody>\n",
       "    <tr>\n",
       "      <th>0</th>\n",
       "      <td>5.1</td>\n",
       "      <td>3.5</td>\n",
       "      <td>1.4</td>\n",
       "      <td>0.2</td>\n",
       "      <td>setosa</td>\n",
       "    </tr>\n",
       "    <tr>\n",
       "      <th>1</th>\n",
       "      <td>4.9</td>\n",
       "      <td>3.0</td>\n",
       "      <td>1.4</td>\n",
       "      <td>0.2</td>\n",
       "      <td>setosa</td>\n",
       "    </tr>\n",
       "    <tr>\n",
       "      <th>2</th>\n",
       "      <td>4.7</td>\n",
       "      <td>3.2</td>\n",
       "      <td>1.3</td>\n",
       "      <td>0.2</td>\n",
       "      <td>setosa</td>\n",
       "    </tr>\n",
       "    <tr>\n",
       "      <th>3</th>\n",
       "      <td>4.6</td>\n",
       "      <td>3.1</td>\n",
       "      <td>1.5</td>\n",
       "      <td>0.2</td>\n",
       "      <td>setosa</td>\n",
       "    </tr>\n",
       "    <tr>\n",
       "      <th>4</th>\n",
       "      <td>5.0</td>\n",
       "      <td>3.6</td>\n",
       "      <td>1.4</td>\n",
       "      <td>0.2</td>\n",
       "      <td>setosa</td>\n",
       "    </tr>\n",
       "  </tbody>\n",
       "</table>\n",
       "</div>"
      ],
      "text/plain": [
       "   sepal_length  sepal_width  petal_length  petal_width species\n",
       "0           5.1          3.5           1.4          0.2  setosa\n",
       "1           4.9          3.0           1.4          0.2  setosa\n",
       "2           4.7          3.2           1.3          0.2  setosa\n",
       "3           4.6          3.1           1.5          0.2  setosa\n",
       "4           5.0          3.6           1.4          0.2  setosa"
      ]
     },
     "execution_count": 18,
     "metadata": {},
     "output_type": "execute_result"
    }
   ],
   "source": [
    "iris.head()"
   ]
  },
  {
   "cell_type": "code",
   "execution_count": 19,
   "metadata": {},
   "outputs": [
    {
     "data": {
      "text/html": [
       "<div>\n",
       "<style scoped>\n",
       "    .dataframe tbody tr th:only-of-type {\n",
       "        vertical-align: middle;\n",
       "    }\n",
       "\n",
       "    .dataframe tbody tr th {\n",
       "        vertical-align: top;\n",
       "    }\n",
       "\n",
       "    .dataframe thead th {\n",
       "        text-align: right;\n",
       "    }\n",
       "</style>\n",
       "<table border=\"1\" class=\"dataframe\">\n",
       "  <thead>\n",
       "    <tr style=\"text-align: right;\">\n",
       "      <th></th>\n",
       "      <th>sepal_length</th>\n",
       "      <th>sepal_width</th>\n",
       "      <th>petal_length</th>\n",
       "      <th>petal_width</th>\n",
       "    </tr>\n",
       "    <tr>\n",
       "      <th>species</th>\n",
       "      <th></th>\n",
       "      <th></th>\n",
       "      <th></th>\n",
       "      <th></th>\n",
       "    </tr>\n",
       "  </thead>\n",
       "  <tbody>\n",
       "    <tr>\n",
       "      <th>setosa</th>\n",
       "      <td>5.006</td>\n",
       "      <td>3.428</td>\n",
       "      <td>1.462</td>\n",
       "      <td>0.246</td>\n",
       "    </tr>\n",
       "    <tr>\n",
       "      <th>versicolor</th>\n",
       "      <td>5.936</td>\n",
       "      <td>2.770</td>\n",
       "      <td>4.260</td>\n",
       "      <td>1.326</td>\n",
       "    </tr>\n",
       "    <tr>\n",
       "      <th>virginica</th>\n",
       "      <td>6.588</td>\n",
       "      <td>2.974</td>\n",
       "      <td>5.552</td>\n",
       "      <td>2.026</td>\n",
       "    </tr>\n",
       "  </tbody>\n",
       "</table>\n",
       "</div>"
      ],
      "text/plain": [
       "            sepal_length  sepal_width  petal_length  petal_width\n",
       "species                                                         \n",
       "setosa             5.006        3.428         1.462        0.246\n",
       "versicolor         5.936        2.770         4.260        1.326\n",
       "virginica          6.588        2.974         5.552        2.026"
      ]
     },
     "execution_count": 19,
     "metadata": {},
     "output_type": "execute_result"
    }
   ],
   "source": [
    "iris.groupby('species').mean()"
   ]
  },
  {
   "cell_type": "code",
   "execution_count": 20,
   "metadata": {},
   "outputs": [
    {
     "data": {
      "text/plain": [
       "<Axes: xlabel='species', ylabel='sepal_length'>"
      ]
     },
     "execution_count": 20,
     "metadata": {},
     "output_type": "execute_result"
    },
    {
     "data": {
      "image/png": "[encoded data removed]",
      "text/plain": [
       "<Figure size 640x480 with 1 Axes>"
      ]
     },
     "metadata": {},
     "output_type": "display_data"
    }
   ],
   "source": [
    "sns.barplot(y=\"sepal_length\", x=\"species\", data=iris) \n",
    "# Add parameter ci if you want to change certainty of confidence interval. \n",
    "# For example ci = 99 for 99% certainty.\n",
    "# The default is 95%"
   ]
  },
  {
   "cell_type": "code",
   "execution_count": 21,
   "metadata": {},
   "outputs": [
    {
     "data": {
      "text/plain": [
       "<Axes: xlabel='species', ylabel='sepal_width'>"
      ]
     },
     "execution_count": 21,
     "metadata": {},
     "output_type": "execute_result"
    },
    {
     "data": {
      "image/png": "[encoded data removed]",
      "text/plain": [
       "<Figure size 640x480 with 1 Axes>"
      ]
     },
     "metadata": {},
     "output_type": "display_data"
    }
   ],
   "source": [
    "sns.barplot(y=\"sepal_width\", x=\"species\", data=iris)"
   ]
  },
  {
   "cell_type": "code",
   "execution_count": 22,
   "metadata": {},
   "outputs": [
    {
     "data": {
      "text/plain": [
       "<Axes: xlabel='species', ylabel='petal_length'>"
      ]
     },
     "execution_count": 22,
     "metadata": {},
     "output_type": "execute_result"
    },
    {
     "data": {
      "image/png": "[encoded data removed]",
      "text/plain": [
       "<Figure size 640x480 with 1 Axes>"
      ]
     },
     "metadata": {},
     "output_type": "display_data"
    }
   ],
   "source": [
    "sns.barplot(y=\"petal_length\", x=\"species\", data=iris)"
   ]
  },
  {
   "cell_type": "code",
   "execution_count": 23,
   "metadata": {},
   "outputs": [
    {
     "data": {
      "text/plain": [
       "<Axes: xlabel='species', ylabel='petal_width'>"
      ]
     },
     "execution_count": 23,
     "metadata": {},
     "output_type": "execute_result"
    },
    {
     "data": {
      "image/png": "[encoded data removed]",
      "text/plain": [
       "<Figure size 640x480 with 1 Axes>"
      ]
     },
     "metadata": {},
     "output_type": "display_data"
    }
   ],
   "source": [
    "sns.barplot(y=\"petal_width\", x=\"species\", data=iris)"
   ]
  },
  {
   "cell_type": "markdown",
   "metadata": {},
   "source": [
    "### Portfolio assignment 11\n",
    "20 min: Do a Numerical VS Categorical bivariate analysis on the penguins dataset.\n",
    "- Choose one of the categorical columns: species, island or sex\n",
    "- use .groupby('<columnname>').mean() too look at the means of the numerical columns. Does it look like there is a difference between categories?\n",
    "- Use the seaborn barplot to plot the mean and confidence. Create this plot for each of the numerical columns (bill_length_mm\tbill_depth_mm, flipper_length_mm, body_mass_g)\n",
    "- For each of the plots, write a conclusion: Is there a statistically significant difference for this numerical column for each category?\n",
    "- Optional: Repeat this proces for the other two categorical columns"
   ]
  },
  {
   "cell_type": "code",
   "execution_count": 24,
   "metadata": {},
   "outputs": [
    {
     "data": {
      "text/html": [
       "<div>\n",
       "<style scoped>\n",
       "    .dataframe tbody tr th:only-of-type {\n",
       "        vertical-align: middle;\n",
       "    }\n",
       "\n",
       "    .dataframe tbody tr th {\n",
       "        vertical-align: top;\n",
       "    }\n",
       "\n",
       "    .dataframe thead th {\n",
       "        text-align: right;\n",
       "    }\n",
       "</style>\n",
       "<table border=\"1\" class=\"dataframe\">\n",
       "  <thead>\n",
       "    <tr style=\"text-align: right;\">\n",
       "      <th></th>\n",
       "      <th>species</th>\n",
       "      <th>island</th>\n",
       "      <th>bill_length_mm</th>\n",
       "      <th>bill_depth_mm</th>\n",
       "      <th>flipper_length_mm</th>\n",
       "      <th>body_mass_g</th>\n",
       "      <th>sex</th>\n",
       "    </tr>\n",
       "  </thead>\n",
       "  <tbody>\n",
       "    <tr>\n",
       "      <th>0</th>\n",
       "      <td>Adelie</td>\n",
       "      <td>Torgersen</td>\n",
       "      <td>39.1</td>\n",
       "      <td>18.7</td>\n",
       "      <td>181.0</td>\n",
       "      <td>3750.0</td>\n",
       "      <td>Male</td>\n",
       "    </tr>\n",
       "    <tr>\n",
       "      <th>1</th>\n",
       "      <td>Adelie</td>\n",
       "      <td>Torgersen</td>\n",
       "      <td>39.5</td>\n",
       "      <td>17.4</td>\n",
       "      <td>186.0</td>\n",
       "      <td>3800.0</td>\n",
       "      <td>Female</td>\n",
       "    </tr>\n",
       "    <tr>\n",
       "      <th>2</th>\n",
       "      <td>Adelie</td>\n",
       "      <td>Torgersen</td>\n",
       "      <td>40.3</td>\n",
       "      <td>18.0</td>\n",
       "      <td>195.0</td>\n",
       "      <td>3250.0</td>\n",
       "      <td>Female</td>\n",
       "    </tr>\n",
       "    <tr>\n",
       "      <th>3</th>\n",
       "      <td>Adelie</td>\n",
       "      <td>Torgersen</td>\n",
       "      <td>NaN</td>\n",
       "      <td>NaN</td>\n",
       "      <td>NaN</td>\n",
       "      <td>NaN</td>\n",
       "      <td>NaN</td>\n",
       "    </tr>\n",
       "    <tr>\n",
       "      <th>4</th>\n",
       "      <td>Adelie</td>\n",
       "      <td>Torgersen</td>\n",
       "      <td>36.7</td>\n",
       "      <td>19.3</td>\n",
       "      <td>193.0</td>\n",
       "      <td>3450.0</td>\n",
       "      <td>Female</td>\n",
       "    </tr>\n",
       "  </tbody>\n",
       "</table>\n",
       "</div>"
      ],
      "text/plain": [
       "  species     island  bill_length_mm  bill_depth_mm  flipper_length_mm  \\\n",
       "0  Adelie  Torgersen            39.1           18.7              181.0   \n",
       "1  Adelie  Torgersen            39.5           17.4              186.0   \n",
       "2  Adelie  Torgersen            40.3           18.0              195.0   \n",
       "3  Adelie  Torgersen             NaN            NaN                NaN   \n",
       "4  Adelie  Torgersen            36.7           19.3              193.0   \n",
       "\n",
       "   body_mass_g     sex  \n",
       "0       3750.0    Male  \n",
       "1       3800.0  Female  \n",
       "2       3250.0  Female  \n",
       "3          NaN     NaN  \n",
       "4       3450.0  Female  "
      ]
     },
     "execution_count": 24,
     "metadata": {},
     "output_type": "execute_result"
    }
   ],
   "source": [
    "penguins.head()"
   ]
  },
  {
   "cell_type": "markdown",
   "metadata": {},
   "source": [
    "![](https://user-images.githubusercontent.com/54525819/139198017-769e8f61-2e58-48a9-947d-fd22947a6548.png)"
   ]
  },
  {
   "cell_type": "markdown",
   "metadata": {},
   "source": [
    "![](https://i.imgur.com/0v1CGNV.png)<br>\n",
    "Assumption: ...<br>\n",
    "Findings: ...<br>"
   ]
  },
  {
   "cell_type": "markdown",
   "metadata": {},
   "source": [
    "### Portfolio assignment 12\n",
    "30 min: Perform a bivariate analysis on at least 3 combinations of a numerical column with a categorical column in the dataset that you chose in portfolio assignment 4. Use <em>.groupby('columnname').mean()</em> to calculate the means. Is there a difference between categories? Then use seaborn barplots to check if there is a statistically significant difference. "
   ]
  },
  {
   "cell_type": "markdown",
   "metadata": {},
   "source": [
    "![](https://i.imgur.com/0v1CGNV.png)<br>\n",
    "Assumption: ...<br>\n",
    "Findings: ...<br>"
   ]
  },
  {
   "cell_type": "markdown",
   "metadata": {},
   "source": [
    "## Categorical vs Categorical"
   ]
  },
  {
   "cell_type": "markdown",
   "metadata": {},
   "source": [
    "Examples:\n",
    "- Inbound channel VS Type of customer\n",
    "- Education VS Job function\n",
    "- Region of citizen VS Who the citizen votes for\n",
    "- Color shirt of crew member in Stat Trek VS Does the crew member survive? (https://statisticsbyjim.com/hypothesis-testing/chi-square-test-independence-example/)\n",
    "- Customer newsletter subscription (Yes/No) VS Custom churn (Yes/No)\n",
    "- Penguin island VS Penguin species\n",
    "- ..."
   ]
  },
  {
   "cell_type": "markdown",
   "metadata": {},
   "source": [
    "![](https://d3i3l3kraiqpym.cloudfront.net/wp-content/uploads/2016/04/26094914/Ad%C3%A9lie-Chinstrap-and-gentoo-penguin-species.jpg)"
   ]
  },
  {
   "cell_type": "code",
   "execution_count": 25,
   "metadata": {},
   "outputs": [
    {
     "data": {
      "text/plain": [
       "<Axes: xlabel='species'>"
      ]
     },
     "execution_count": 25,
     "metadata": {},
     "output_type": "execute_result"
    },
    {
     "data": {
      "image/png": "[encoded data removed]",
      "text/plain": [
       "<Figure size 640x480 with 1 Axes>"
      ]
     },
     "metadata": {},
     "output_type": "display_data"
    }
   ],
   "source": [
    "penguins.species.value_counts().plot(kind='bar')"
   ]
  },
  {
   "cell_type": "code",
   "execution_count": 26,
   "metadata": {},
   "outputs": [
    {
     "data": {
      "text/plain": [
       "<Axes: xlabel='island'>"
      ]
     },
     "execution_count": 26,
     "metadata": {},
     "output_type": "execute_result"
    },
    {
     "data": {
      "image/png": "[encoded data removed]",
      "text/plain": [
       "<Figure size 640x480 with 1 Axes>"
      ]
     },
     "metadata": {},
     "output_type": "display_data"
    }
   ],
   "source": [
    "penguins['island'].value_counts().plot(kind='bar')"
   ]
  },
  {
   "cell_type": "code",
   "execution_count": 38,
   "metadata": {},
   "outputs": [],
   "source": [
    "def create_contingency_table(dataset, column1, column2):\n",
    "    return dataset.groupby([column1, column2]).size().unstack(column1, fill_value=0)"
   ]
  },
  {
   "cell_type": "code",
   "execution_count": 39,
   "metadata": {},
   "outputs": [],
   "source": [
    "penguinsContingencyTable = create_contingency_table(penguins, 'species','island')"
   ]
  },
  {
   "cell_type": "code",
   "execution_count": 40,
   "metadata": {},
   "outputs": [
    {
     "data": {
      "text/html": [
       "<div>\n",
       "<style scoped>\n",
       "    .dataframe tbody tr th:only-of-type {\n",
       "        vertical-align: middle;\n",
       "    }\n",
       "\n",
       "    .dataframe tbody tr th {\n",
       "        vertical-align: top;\n",
       "    }\n",
       "\n",
       "    .dataframe thead th {\n",
       "        text-align: right;\n",
       "    }\n",
       "</style>\n",
       "<table border=\"1\" class=\"dataframe\">\n",
       "  <thead>\n",
       "    <tr style=\"text-align: right;\">\n",
       "      <th>species</th>\n",
       "      <th>Adelie</th>\n",
       "      <th>Chinstrap</th>\n",
       "      <th>Gentoo</th>\n",
       "    </tr>\n",
       "    <tr>\n",
       "      <th>island</th>\n",
       "      <th></th>\n",
       "      <th></th>\n",
       "      <th></th>\n",
       "    </tr>\n",
       "  </thead>\n",
       "  <tbody>\n",
       "    <tr>\n",
       "      <th>Biscoe</th>\n",
       "      <td>44</td>\n",
       "      <td>0</td>\n",
       "      <td>124</td>\n",
       "    </tr>\n",
       "    <tr>\n",
       "      <th>Dream</th>\n",
       "      <td>56</td>\n",
       "      <td>68</td>\n",
       "      <td>0</td>\n",
       "    </tr>\n",
       "    <tr>\n",
       "      <th>Torgersen</th>\n",
       "      <td>52</td>\n",
       "      <td>0</td>\n",
       "      <td>0</td>\n",
       "    </tr>\n",
       "  </tbody>\n",
       "</table>\n",
       "</div>"
      ],
      "text/plain": [
       "species    Adelie  Chinstrap  Gentoo\n",
       "island                              \n",
       "Biscoe         44          0     124\n",
       "Dream          56         68       0\n",
       "Torgersen      52          0       0"
      ]
     },
     "execution_count": 40,
     "metadata": {},
     "output_type": "execute_result"
    }
   ],
   "source": [
    "penguinsContingencyTable"
   ]
  },
  {
   "cell_type": "markdown",
   "metadata": {},
   "source": [
    "This function ```create_contingency_table``` creates a contingency table (also called a cross-tabulation or pivot table) showing how often combinations of values from two columns occur.\n",
    "\n",
    "**Step-by-step breakdown:**\n",
    "\n",
    "*groupby([column1, column2])*\n",
    "→ Groups the data by all unique combinations of column1 and column2.\n",
    "\n",
    "*.size()*\n",
    "→ Counts the number of rows in each group.\n",
    "\n",
    "*.unstack(column1, fill_value=0)*\n",
    "→ Converts the grouped result into a table format:\n",
    "    Rows = unique values from column2\n",
    "    Columns = unique values from column1\n",
    "    Cell values = counts\n",
    "    fill_value=0 ensures empty combinations get a 0"
   ]
  },
  {
   "cell_type": "code",
   "execution_count": 41,
   "metadata": {},
   "outputs": [
    {
     "data": {
      "text/plain": [
       "<Axes: xlabel='island'>"
      ]
     },
     "execution_count": 41,
     "metadata": {},
     "output_type": "execute_result"
    },
    {
     "data": {
      "image/png": "[encoded data removed]",
      "text/plain": [
       "<Figure size 640x480 with 1 Axes>"
      ]
     },
     "metadata": {},
     "output_type": "display_data"
    }
   ],
   "source": [
    "penguinsContingencyTable.plot(kind='bar')"
   ]
  },
  {
   "cell_type": "code",
   "execution_count": 32,
   "metadata": {},
   "outputs": [],
   "source": [
    "from scipy.stats import chi2_contingency\n",
    "def check_cat_vs_cat_correlation(dataset, column1, column2):\n",
    "    contingency_table = create_contingency_table(dataset, column1, column2)\n",
    "    chi2 = chi2_contingency(contingency_table)\n",
    "    print(chi2)\n",
    "    p_value = chi2[1]\n",
    "    odds_of_correlation = 1 - p_value\n",
    "    print(f\"The odds of a correlation between {column1} and {column2} is {odds_of_correlation * 100}% (Based on a p value of {p_value}).\")\n",
    "    print(\"This percentage needs to be at least 95% for a significant correlation.\")"
   ]
  },
  {
   "cell_type": "code",
   "execution_count": 33,
   "metadata": {},
   "outputs": [
    {
     "name": "stdout",
     "output_type": "stream",
     "text": [
      "Chi2ContingencyResult(statistic=299.55032743148195, pvalue=1.3545738297192517e-63, dof=4, expected_freq=array([[74.23255814, 33.20930233, 60.55813953],\n",
      "       [54.79069767, 24.51162791, 44.69767442],\n",
      "       [22.97674419, 10.27906977, 18.74418605]]))\n",
      "The odds of a correlation between species and island is 100.0% (Based on a p value of 1.3545738297192517e-63).\n",
      "This percentage needs to be at least 95% for a significant correlation.\n"
     ]
    }
   ],
   "source": [
    "check_cat_vs_cat_correlation(penguins, 'species','island')"
   ]
  },
  {
   "cell_type": "markdown",
   "metadata": {},
   "source": [
    "![](https://1000logos.net/wp-content/uploads/2021/01/Suitmarks-of-playing-cards.jpg)"
   ]
  },
  {
   "cell_type": "code",
   "execution_count": 34,
   "metadata": {},
   "outputs": [],
   "source": [
    "cardThrows = pd.DataFrame(data= {'Person': ['you', 'you', 'you', 'me','me','me'], 'Throws': ['spades','hearts','clubs','spades', 'hearts','diamonds']})"
   ]
  },
  {
   "cell_type": "code",
   "execution_count": 35,
   "metadata": {},
   "outputs": [
    {
     "data": {
      "text/html": [
       "<div>\n",
       "<style scoped>\n",
       "    .dataframe tbody tr th:only-of-type {\n",
       "        vertical-align: middle;\n",
       "    }\n",
       "\n",
       "    .dataframe tbody tr th {\n",
       "        vertical-align: top;\n",
       "    }\n",
       "\n",
       "    .dataframe thead th {\n",
       "        text-align: right;\n",
       "    }\n",
       "</style>\n",
       "<table border=\"1\" class=\"dataframe\">\n",
       "  <thead>\n",
       "    <tr style=\"text-align: right;\">\n",
       "      <th></th>\n",
       "      <th>Person</th>\n",
       "      <th>Throws</th>\n",
       "    </tr>\n",
       "  </thead>\n",
       "  <tbody>\n",
       "    <tr>\n",
       "      <th>0</th>\n",
       "      <td>you</td>\n",
       "      <td>spades</td>\n",
       "    </tr>\n",
       "    <tr>\n",
       "      <th>1</th>\n",
       "      <td>you</td>\n",
       "      <td>hearts</td>\n",
       "    </tr>\n",
       "    <tr>\n",
       "      <th>2</th>\n",
       "      <td>you</td>\n",
       "      <td>clubs</td>\n",
       "    </tr>\n",
       "    <tr>\n",
       "      <th>3</th>\n",
       "      <td>me</td>\n",
       "      <td>spades</td>\n",
       "    </tr>\n",
       "    <tr>\n",
       "      <th>4</th>\n",
       "      <td>me</td>\n",
       "      <td>hearts</td>\n",
       "    </tr>\n",
       "    <tr>\n",
       "      <th>5</th>\n",
       "      <td>me</td>\n",
       "      <td>diamonds</td>\n",
       "    </tr>\n",
       "  </tbody>\n",
       "</table>\n",
       "</div>"
      ],
      "text/plain": [
       "  Person    Throws\n",
       "0    you    spades\n",
       "1    you    hearts\n",
       "2    you     clubs\n",
       "3     me    spades\n",
       "4     me    hearts\n",
       "5     me  diamonds"
      ]
     },
     "execution_count": 35,
     "metadata": {},
     "output_type": "execute_result"
    }
   ],
   "source": [
    "cardThrows"
   ]
  },
  {
   "cell_type": "code",
   "execution_count": 36,
   "metadata": {},
   "outputs": [],
   "source": [
    "contingencyTableCardThrows = create_contingency_table(cardThrows, 'Person','Throws')"
   ]
  },
  {
   "cell_type": "code",
   "execution_count": 37,
   "metadata": {},
   "outputs": [
    {
     "data": {
      "text/plain": [
       "<Axes: xlabel='Throws'>"
      ]
     },
     "execution_count": 37,
     "metadata": {},
     "output_type": "execute_result"
    },
    {
     "data": {
      "image/png": "[encoded data removed]",
      "text/plain": [
       "<Figure size 640x480 with 1 Axes>"
      ]
     },
     "metadata": {},
     "output_type": "display_data"
    }
   ],
   "source": [
    "contingencyTableCardThrows.plot(kind='bar')"
   ]
  },
  {
   "cell_type": "code",
   "execution_count": 38,
   "metadata": {},
   "outputs": [
    {
     "name": "stdout",
     "output_type": "stream",
     "text": [
      "Chi2ContingencyResult(statistic=2.0, pvalue=0.5724067044708798, dof=3, expected_freq=array([[0.5, 0.5],\n",
      "       [0.5, 0.5],\n",
      "       [1. , 1. ],\n",
      "       [1. , 1. ]]))\n",
      "The odds of a correlation between Person and Throws is 42.75932955291202% (Based on a p value of 0.5724067044708798).\n",
      "This percentage needs to be at least 95% for a significant correlation.\n"
     ]
    }
   ],
   "source": [
    "check_cat_vs_cat_correlation(cardThrows, 'Person','Throws')"
   ]
  },
  {
   "cell_type": "markdown",
   "metadata": {},
   "source": [
    "![](https://miro.medium.com/max/532/1*S8rfFkmLhDbOz4RGNwuz6g.png)"
   ]
  },
  {
   "cell_type": "code",
   "execution_count": 39,
   "metadata": {},
   "outputs": [
    {
     "data": {
      "text/html": [
       "<div>\n",
       "<style scoped>\n",
       "    .dataframe tbody tr th:only-of-type {\n",
       "        vertical-align: middle;\n",
       "    }\n",
       "\n",
       "    .dataframe tbody tr th {\n",
       "        vertical-align: top;\n",
       "    }\n",
       "\n",
       "    .dataframe thead th {\n",
       "        text-align: right;\n",
       "    }\n",
       "</style>\n",
       "<table border=\"1\" class=\"dataframe\">\n",
       "  <thead>\n",
       "    <tr style=\"text-align: right;\">\n",
       "      <th></th>\n",
       "      <th>Person</th>\n",
       "      <th>Throws</th>\n",
       "    </tr>\n",
       "  </thead>\n",
       "  <tbody>\n",
       "    <tr>\n",
       "      <th>0</th>\n",
       "      <td>Person1</td>\n",
       "      <td>hearts</td>\n",
       "    </tr>\n",
       "    <tr>\n",
       "      <th>1</th>\n",
       "      <td>Person1</td>\n",
       "      <td>clubs</td>\n",
       "    </tr>\n",
       "    <tr>\n",
       "      <th>2</th>\n",
       "      <td>Person1</td>\n",
       "      <td>clubs</td>\n",
       "    </tr>\n",
       "    <tr>\n",
       "      <th>3</th>\n",
       "      <td>Person1</td>\n",
       "      <td>diamonds</td>\n",
       "    </tr>\n",
       "    <tr>\n",
       "      <th>4</th>\n",
       "      <td>Person1</td>\n",
       "      <td>spades</td>\n",
       "    </tr>\n",
       "  </tbody>\n",
       "</table>\n",
       "</div>"
      ],
      "text/plain": [
       "    Person    Throws\n",
       "0  Person1    hearts\n",
       "1  Person1     clubs\n",
       "2  Person1     clubs\n",
       "3  Person1  diamonds\n",
       "4  Person1    spades"
      ]
     },
     "execution_count": 39,
     "metadata": {},
     "output_type": "execute_result"
    }
   ],
   "source": [
    "# Change the numberOfRolls and low & high of each player to see the impact on the chi-square test.\n",
    "numberOfThrows = 30\n",
    "person1Throws= pd.Series( np.random.choice(['spades','hearts','clubs', 'diamonds'], size=numberOfThrows ))\n",
    "person2Throws= pd.Series( np.random.choice(['spades','hearts','clubs'], size=numberOfThrows ))\n",
    "\n",
    "cardThrows2 = pd.DataFrame({\n",
    "    'Person':pd.concat([pd.Series(['Person1']*numberOfThrows),pd.Series(['Person2']*numberOfThrows)]),\n",
    "    'Throws':pd.concat([person1Throws,person2Throws])\n",
    "})\n",
    "cardThrows2.head()"
   ]
  },
  {
   "cell_type": "code",
   "execution_count": 40,
   "metadata": {},
   "outputs": [],
   "source": [
    "contingencyTableCardThrows2 = create_contingency_table(cardThrows2, 'Person','Throws')"
   ]
  },
  {
   "cell_type": "code",
   "execution_count": 41,
   "metadata": {},
   "outputs": [
    {
     "data": {
      "text/plain": [
       "<Axes: xlabel='Throws'>"
      ]
     },
     "execution_count": 41,
     "metadata": {},
     "output_type": "execute_result"
    },
    {
     "data": {
      "image/png": "[encoded data removed]",
      "text/plain": [
       "<Figure size 640x480 with 1 Axes>"
      ]
     },
     "metadata": {},
     "output_type": "display_data"
    }
   ],
   "source": [
    "contingencyTableCardThrows2.plot(kind='bar')"
   ]
  },
  {
   "cell_type": "code",
   "execution_count": 42,
   "metadata": {},
   "outputs": [
    {
     "name": "stdout",
     "output_type": "stream",
     "text": [
      "Chi2ContingencyResult(statistic=10.083694083694084, pvalue=0.01786793953894732, dof=3, expected_freq=array([[11., 11.],\n",
      "       [ 3.,  3.],\n",
      "       [ 7.,  7.],\n",
      "       [ 9.,  9.]]))\n",
      "The odds of a correlation between Person and Throws is 98.21320604610527% (Based on a p value of 0.01786793953894732).\n",
      "This percentage needs to be at least 95% for a significant correlation.\n"
     ]
    }
   ],
   "source": [
    "check_cat_vs_cat_correlation(cardThrows2, 'Person','Throws')"
   ]
  },
  {
   "cell_type": "markdown",
   "metadata": {},
   "source": [
    "### Portfolio assignment 13\n",
    "10 min: Do a bivariate analysis on the penguins dataset for the following combination of columns:\n",
    "- species VS sex\n",
    "- island VS sex\n",
    "\n",
    "For this bivariate analysis, at least perform the following tasks:\n",
    "- Do you expect their to be a correlation between the two columns?\n",
    "- Create a contingency table. Do you observe different ratios between categories here?\n",
    "- Create a bar plot for this contingency table. Do you observe different ratios between categories here?\n",
    "- Do a chi-squared test. What does the result say? What's the chance of there being a correlation between the two columns?"
   ]
  },
  {
   "cell_type": "markdown",
   "metadata": {},
   "source": [
    "![](https://i.imgur.com/0v1CGNV.png)<br>\n",
    "Assumptions: ...<br>\n",
    "Findings: ...<br>"
   ]
  },
  {
   "cell_type": "markdown",
   "metadata": {},
   "source": [
    "### Portfolio assignment 14\n",
    "Perform a bivariate analysis on at least 1 combination of 2 columns with categorical data in the dataset that you chose in portfolio assignment 4.\n",
    "- Do you expect their to be a correlation between the two columns?\n",
    "- Create a contingency table. Do you observe different ratios between categories here?\n",
    "- Create a bar plot for this contingency table. Do you observe different ratios between categories here?\n",
    "- Do a chi-squared test. What does the result say? What's the chance of there being a correlation between the two columns?"
   ]
  },
  {
   "cell_type": "markdown",
   "metadata": {},
   "source": [
    "![](https://i.imgur.com/0v1CGNV.png)<br>\n",
    "Assumption: ...<br>\n",
    "Finding: ...<br>"
   ]
  }
 ],
 "metadata": {
  "kernelspec": {
   "display_name": "Python 3",
   "language": "python",
   "name": "python3"
  },
  "language_info": {
   "codemirror_mode": {
    "name": "ipython",
    "version": 3
   },
   "file_extension": ".py",
   "mimetype": "text/x-python",
   "name": "python",
   "nbconvert_exporter": "python",
   "pygments_lexer": "ipython3",
   "version": "3.12.4"
  }
 },
 "nbformat": 4,
 "nbformat_minor": 4
}
