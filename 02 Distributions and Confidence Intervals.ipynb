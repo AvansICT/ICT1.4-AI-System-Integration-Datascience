{
 "cells": [
  {
   "cell_type": "markdown",
   "metadata": {},
   "source": [
    "# Distributions"
   ]
  },
  {
   "cell_type": "markdown",
   "metadata": {},
   "source": [
    "Interesting sources: \n",
    "- https://app.datacamp.com/learn/courses/foundations-of-probability-in-python"
   ]
  },
  {
   "cell_type": "code",
   "execution_count": 1,
   "metadata": {},
   "outputs": [],
   "source": [
    "import numpy as np\n",
    "import pandas as pd"
   ]
  },
  {
   "cell_type": "markdown",
   "metadata": {},
   "source": [
    "# Uniform distribution"
   ]
  },
  {
   "cell_type": "markdown",
   "metadata": {},
   "source": [
    "## Rolling a 6-sided die"
   ]
  },
  {
   "cell_type": "markdown",
   "metadata": {},
   "source": [
    "![](https://wherethewindsblow.com/wp-content/uploads/2023/06/JUMBO-Six-sided-white-dice.jpg)"
   ]
  },
  {
   "cell_type": "markdown",
   "metadata": {},
   "source": [
    "We are simulating the process of rolling a standard six-sided die. Each roll produces a random integer between 1 and 6, with all outcomes being equally likely. By generating multiple samples within this range, we can observe how the distribution of results begins to resemble a uniform distribution as the number of rolls increases."
   ]
  },
  {
   "cell_type": "code",
   "execution_count": 2,
   "metadata": {},
   "outputs": [],
   "source": [
    "minValue = 1 #  \n",
    "maxValue = 6 # Maximum value of the dice\n",
    "numberOfSamples = 6 # Increase number to show that it converges to a uniform distribution"
   ]
  },
  {
   "cell_type": "markdown",
   "metadata": {},
   "source": [
    "Now we simulate rolling the die ```numberOfSamples``` times:\n",
    "If you rerun the script you can see that the values change, just like a 'real' die."
   ]
  },
  {
   "cell_type": "code",
   "execution_count": 10,
   "metadata": {},
   "outputs": [
    {
     "data": {
      "text/plain": [
       "0    3\n",
       "1    1\n",
       "2    3\n",
       "3    4\n",
       "4    3\n",
       "5    3\n",
       "dtype: int32"
      ]
     },
     "execution_count": 10,
     "metadata": {},
     "output_type": "execute_result"
    }
   ],
   "source": [
    "results = pd.Series( np.random.randint(low=minValue, high=maxValue + 1, size=numberOfSamples) )\n",
    "results"
   ]
  },
  {
   "cell_type": "code",
   "execution_count": 11,
   "metadata": {},
   "outputs": [
    {
     "data": {
      "text/plain": [
       "<Axes: >"
      ]
     },
     "execution_count": 11,
     "metadata": {},
     "output_type": "execute_result"
    },
    {
     "data": {
      "image/png": "[encoded data removed]",
      "text/plain": [
       "<Figure size 640x480 with 1 Axes>"
      ]
     },
     "metadata": {},
     "output_type": "display_data"
    }
   ],
   "source": [
    "results.value_counts().sort_index().plot(kind='bar')"
   ]
  },
  {
   "cell_type": "markdown",
   "metadata": {},
   "source": [
    "## Normal distribution"
   ]
  },
  {
   "cell_type": "markdown",
   "metadata": {},
   "source": [
    "### Sampling from the average length of  a full-grown citizen in the Netherlands."
   ]
  },
  {
   "cell_type": "code",
   "execution_count": 22,
   "metadata": {},
   "outputs": [],
   "source": [
    "averageLength = 174.25 # Average length of a person in cm\n",
    "stdLength = 8 # Standard deviation of the length of a person in cm\n",
    "numberOfPeopleToSample = 3000 # Play with these values to show the impact on the histogram"
   ]
  },
  {
   "cell_type": "code",
   "execution_count": 23,
   "metadata": {},
   "outputs": [
    {
     "data": {
      "text/plain": [
       "0    171.730303\n",
       "1    183.551264\n",
       "2    175.298617\n",
       "3    180.531294\n",
       "4    172.949435\n",
       "dtype: float64"
      ]
     },
     "execution_count": 23,
     "metadata": {},
     "output_type": "execute_result"
    }
   ],
   "source": [
    "randomLengths = pd.Series( np.random.normal(averageLength, stdLength, numberOfPeopleToSample) )\n",
    "randomLengths.head()"
   ]
  },
  {
   "cell_type": "code",
   "execution_count": 24,
   "metadata": {},
   "outputs": [
    {
     "data": {
      "text/plain": [
       "<Axes: ylabel='Frequency'>"
      ]
     },
     "execution_count": 24,
     "metadata": {},
     "output_type": "execute_result"
    },
    {
     "data": {
      "image/png": "[encoded data removed]",
      "text/plain": [
       "<Figure size 640x480 with 1 Axes>"
      ]
     },
     "metadata": {},
     "output_type": "display_data"
    }
   ],
   "source": [
    "randomLengths.plot(kind='hist', bins=10)"
   ]
  },
  {
   "cell_type": "markdown",
   "metadata": {},
   "source": [
    "![](https://upload.wikimedia.org/wikipedia/commons/8/8c/Standard_deviation_diagram.svg 'Normal distribution')"
   ]
  },
  {
   "cell_type": "markdown",
   "metadata": {},
   "source": [
    "### Examples of normal distribution in real life\n",
    "- https://studiousguy.com/real-life-examples-normal-distribution/\n",
    "- https://galtonboard.com/probabilityexamplesinlife"
   ]
  },
  {
   "cell_type": "markdown",
   "metadata": {},
   "source": [
    "### Central limit theorem\n",
    "\n",
    "**What is the Central Limit Theorem?**\n",
    "In simple terms:\n",
    "\n",
    "If you take many random samples of a certain size from any population, and calculate the mean of each sample, then the distribution of those sample means will:\n",
    "- Be approximately normal (bell-shaped)\n",
    "- Have the same average as the original population\n",
    "- Have a smaller spread (standard deviation gets smaller as sample size increases)\n",
    "- Even if the original data is not normally distributed!\n",
    "\n",
    "**Why is this useful?**\n",
    "Because it lets us:\n",
    "- Use normal distribution tools (like confidence intervals) on data that isn't normal\n",
    "- Make predictions and inferences about population averages\n",
    "- Justify why the mean is a reliable estimate with large samples\n",
    "\n"
   ]
  },
  {
   "cell_type": "code",
   "execution_count": 28,
   "metadata": {},
   "outputs": [],
   "source": [
    "sampleMeans = []\n",
    "sampleSize = 100\n",
    "sampleMeansSize = 100 # 10000\n",
    "\n",
    "for i in range(sampleMeansSize):\n",
    "    randomLengths = pd.Series( np.random.normal(averageLength, stdLength, sampleSize) )\n",
    "    sampleMeans.append(randomLengths.mean())"
   ]
  },
  {
   "cell_type": "code",
   "execution_count": 29,
   "metadata": {},
   "outputs": [
    {
     "data": {
      "text/plain": [
       "[np.float64(172.55545664870834),\n",
       " np.float64(173.4649486288077),\n",
       " np.float64(174.49374818646322),\n",
       " np.float64(172.90741917741215),\n",
       " np.float64(174.38091710200402),\n",
       " np.float64(176.26708788895405),\n",
       " np.float64(174.4427609227913),\n",
       " np.float64(173.66357756099248),\n",
       " np.float64(173.75365447695492),\n",
       " np.float64(174.43570991146396),\n",
       " np.float64(174.99643519832964),\n",
       " np.float64(175.20214893914417),\n",
       " np.float64(173.96874831886285),\n",
       " np.float64(173.62216424192866),\n",
       " np.float64(174.03299866910908),\n",
       " np.float64(176.3574175141769),\n",
       " np.float64(174.23816505878366),\n",
       " np.float64(173.69244721671473),\n",
       " np.float64(174.2467074446549),\n",
       " np.float64(173.71971379696095),\n",
       " np.float64(175.28224804719414),\n",
       " np.float64(174.2172786485875),\n",
       " np.float64(174.32146077207304),\n",
       " np.float64(173.28205599189357),\n",
       " np.float64(174.27776042401828),\n",
       " np.float64(173.69288848877466),\n",
       " np.float64(174.21283955416047),\n",
       " np.float64(174.1812345172678),\n",
       " np.float64(174.21851744790604),\n",
       " np.float64(174.8362720936131),\n",
       " np.float64(172.9967742222596),\n",
       " np.float64(173.92292224141326),\n",
       " np.float64(174.45156314332226),\n",
       " np.float64(174.24077141167163),\n",
       " np.float64(174.42082020351077),\n",
       " np.float64(174.44152775033007),\n",
       " np.float64(173.7702185228254),\n",
       " np.float64(174.54227419400624),\n",
       " np.float64(173.54966272186823),\n",
       " np.float64(172.93553739583876),\n",
       " np.float64(173.88076684322004),\n",
       " np.float64(175.16312829457453),\n",
       " np.float64(172.21401851481508),\n",
       " np.float64(173.26299085792627),\n",
       " np.float64(174.42530368370174),\n",
       " np.float64(173.85811009587803),\n",
       " np.float64(174.5343134113826),\n",
       " np.float64(174.96958679662987),\n",
       " np.float64(173.4656422148824),\n",
       " np.float64(174.71163836546785),\n",
       " np.float64(174.73985693580494),\n",
       " np.float64(175.32530121795025),\n",
       " np.float64(174.71342342053273),\n",
       " np.float64(174.05634720757226),\n",
       " np.float64(174.40495200899062),\n",
       " np.float64(173.53962397725826),\n",
       " np.float64(175.88557042540884),\n",
       " np.float64(173.11529757949182),\n",
       " np.float64(174.21301635165372),\n",
       " np.float64(173.73833556243187),\n",
       " np.float64(173.87945877997856),\n",
       " np.float64(174.24556247658072),\n",
       " np.float64(173.14726974436505),\n",
       " np.float64(175.15527296719856),\n",
       " np.float64(173.86085494570656),\n",
       " np.float64(173.8532342784589),\n",
       " np.float64(173.18788330835403),\n",
       " np.float64(175.2827918373876),\n",
       " np.float64(174.9699682955974),\n",
       " np.float64(174.58375884501424),\n",
       " np.float64(174.6090339349891),\n",
       " np.float64(173.25931335583564),\n",
       " np.float64(173.6625349710331),\n",
       " np.float64(175.0756574041805),\n",
       " np.float64(173.96508258062983),\n",
       " np.float64(173.99437109719236),\n",
       " np.float64(174.09930103192156),\n",
       " np.float64(173.9848937450453),\n",
       " np.float64(173.76739546573455),\n",
       " np.float64(174.21474339400294),\n",
       " np.float64(173.89962278572443),\n",
       " np.float64(175.54999984859805),\n",
       " np.float64(174.57379741046964),\n",
       " np.float64(174.7227941163956),\n",
       " np.float64(175.2886374321727),\n",
       " np.float64(175.7071655499366),\n",
       " np.float64(173.06070800571018),\n",
       " np.float64(173.5538093896853),\n",
       " np.float64(174.33092866958293),\n",
       " np.float64(175.5952190486775),\n",
       " np.float64(175.35878253670927),\n",
       " np.float64(174.19455038744846),\n",
       " np.float64(174.66570900012016),\n",
       " np.float64(174.36083444170288),\n",
       " np.float64(173.92114251219292),\n",
       " np.float64(175.22348591798172),\n",
       " np.float64(175.2578149262395),\n",
       " np.float64(174.97068938105735),\n",
       " np.float64(174.25001917486514),\n",
       " np.float64(175.62575619438704)]"
      ]
     },
     "execution_count": 29,
     "metadata": {},
     "output_type": "execute_result"
    }
   ],
   "source": [
    "sampleMeans"
   ]
  },
  {
   "cell_type": "code",
   "execution_count": 34,
   "metadata": {},
   "outputs": [
    {
     "data": {
      "text/plain": [
       "<Axes: ylabel='Frequency'>"
      ]
     },
     "execution_count": 34,
     "metadata": {},
     "output_type": "execute_result"
    },
    {
     "data": {
      "image/png": "[encoded data removed]",
      "text/plain": [
       "<Figure size 640x480 with 1 Axes>"
      ]
     },
     "metadata": {},
     "output_type": "display_data"
    }
   ],
   "source": [
    "pd.Series(sampleMeans).plot(kind='hist', bins = 10)"
   ]
  },
  {
   "cell_type": "code",
   "execution_count": 35,
   "metadata": {},
   "outputs": [],
   "source": [
    "sampleMeans = []\n",
    "sampleSize = 100\n",
    "sampleMeansSize = 10000\n",
    "\n",
    "for i in range(sampleMeansSize):\n",
    "    randomRolls = pd.Series( np.random.randint(low=minValue, high=maxValue + 1, size=sampleSize) )\n",
    "    sampleMeans.append(randomRolls.mean())"
   ]
  },
  {
   "cell_type": "code",
   "execution_count": 33,
   "metadata": {},
   "outputs": [
    {
     "data": {
      "text/plain": [
       "<Axes: ylabel='Frequency'>"
      ]
     },
     "execution_count": 33,
     "metadata": {},
     "output_type": "execute_result"
    },
    {
     "data": {
      "image/png": "[encoded data removed]",
      "text/plain": [
       "<Figure size 640x480 with 1 Axes>"
      ]
     },
     "metadata": {},
     "output_type": "display_data"
    }
   ],
   "source": [
    "pd.Series(sampleMeans).plot(kind='hist', bins = 25)"
   ]
  },
  {
   "cell_type": "markdown",
   "metadata": {},
   "source": [
    "### Confidence interval"
   ]
  },
  {
   "cell_type": "markdown",
   "metadata": {},
   "source": [
    "**What is a Confidence Interval?**\n",
    "A confidence interval is a range of values that we believe is likely to contain the true population parameter (like the mean or proportion), based on a sample.\n",
    "\n",
    "Usually, we talk about the **mean**, so let’s focus on that:\n",
    "\n",
    "A 95% confidence interval for the mean says:\n",
    "“We are 95% confident that the true population mean lies within this range.”\n",
    "\n",
    "\n",
    "![](https://datatab.net/assets/tutorial/confidence_interval.png)"
   ]
  },
  {
   "cell_type": "markdown",
   "metadata": {},
   "source": [
    "![](https://datatab.net/assets/tutorial/Confidence_interval_formula.png)"
   ]
  },
  {
   "cell_type": "markdown",
   "metadata": {},
   "source": [
    "So let's reconsider one sample. Based on this one sample, what can we say about the mean of the underlying population?"
   ]
  },
  {
   "cell_type": "code",
   "execution_count": 37,
   "metadata": {},
   "outputs": [
    {
     "data": {
      "text/plain": [
       "(np.float64(174.05704687269306), np.float64(177.194465516081))"
      ]
     },
     "execution_count": 37,
     "metadata": {},
     "output_type": "execute_result"
    }
   ],
   "source": [
    "import scipy.stats as st\n",
    "confidence = 0.95\n",
    "st.t.interval(confidence, len(randomLengths)-1, loc=randomLengths.mean(), scale=st.sem(randomLengths))"
   ]
  },
  {
   "cell_type": "markdown",
   "metadata": {},
   "source": [
    "And how about rolling a dice?"
   ]
  },
  {
   "cell_type": "code",
   "execution_count": 38,
   "metadata": {},
   "outputs": [
    {
     "data": {
      "text/plain": [
       "(np.float64(3.4477517409948786), np.float64(4.1522482590051215))"
      ]
     },
     "execution_count": 38,
     "metadata": {},
     "output_type": "execute_result"
    }
   ],
   "source": [
    "import scipy.stats as st\n",
    "confidence = 0.95\n",
    "st.t.interval(confidence, len(randomRolls)-1, loc=randomRolls.mean(), scale=st.sem(randomRolls))"
   ]
  },
  {
   "cell_type": "markdown",
   "metadata": {},
   "source": [
    "Let's apply this to the iris dataset. What is the 95% confidence interval of the sepal_length? Meaning, let's calculate the interval that contains the real mean sepal length with 95% confidence."
   ]
  },
  {
   "cell_type": "code",
   "execution_count": 39,
   "metadata": {},
   "outputs": [
    {
     "data": {
      "text/html": [
       "<div>\n",
       "<style scoped>\n",
       "    .dataframe tbody tr th:only-of-type {\n",
       "        vertical-align: middle;\n",
       "    }\n",
       "\n",
       "    .dataframe tbody tr th {\n",
       "        vertical-align: top;\n",
       "    }\n",
       "\n",
       "    .dataframe thead th {\n",
       "        text-align: right;\n",
       "    }\n",
       "</style>\n",
       "<table border=\"1\" class=\"dataframe\">\n",
       "  <thead>\n",
       "    <tr style=\"text-align: right;\">\n",
       "      <th></th>\n",
       "      <th>sepal_length</th>\n",
       "      <th>sepal_width</th>\n",
       "      <th>petal_length</th>\n",
       "      <th>petal_width</th>\n",
       "      <th>species</th>\n",
       "    </tr>\n",
       "  </thead>\n",
       "  <tbody>\n",
       "    <tr>\n",
       "      <th>0</th>\n",
       "      <td>5.1</td>\n",
       "      <td>3.5</td>\n",
       "      <td>1.4</td>\n",
       "      <td>0.2</td>\n",
       "      <td>setosa</td>\n",
       "    </tr>\n",
       "    <tr>\n",
       "      <th>1</th>\n",
       "      <td>4.9</td>\n",
       "      <td>3.0</td>\n",
       "      <td>1.4</td>\n",
       "      <td>0.2</td>\n",
       "      <td>setosa</td>\n",
       "    </tr>\n",
       "    <tr>\n",
       "      <th>2</th>\n",
       "      <td>4.7</td>\n",
       "      <td>3.2</td>\n",
       "      <td>1.3</td>\n",
       "      <td>0.2</td>\n",
       "      <td>setosa</td>\n",
       "    </tr>\n",
       "    <tr>\n",
       "      <th>3</th>\n",
       "      <td>4.6</td>\n",
       "      <td>3.1</td>\n",
       "      <td>1.5</td>\n",
       "      <td>0.2</td>\n",
       "      <td>setosa</td>\n",
       "    </tr>\n",
       "    <tr>\n",
       "      <th>4</th>\n",
       "      <td>5.0</td>\n",
       "      <td>3.6</td>\n",
       "      <td>1.4</td>\n",
       "      <td>0.2</td>\n",
       "      <td>setosa</td>\n",
       "    </tr>\n",
       "  </tbody>\n",
       "</table>\n",
       "</div>"
      ],
      "text/plain": [
       "   sepal_length  sepal_width  petal_length  petal_width species\n",
       "0           5.1          3.5           1.4          0.2  setosa\n",
       "1           4.9          3.0           1.4          0.2  setosa\n",
       "2           4.7          3.2           1.3          0.2  setosa\n",
       "3           4.6          3.1           1.5          0.2  setosa\n",
       "4           5.0          3.6           1.4          0.2  setosa"
      ]
     },
     "execution_count": 39,
     "metadata": {},
     "output_type": "execute_result"
    }
   ],
   "source": [
    "import seaborn as sns\n",
    "iris = sns.load_dataset(\"iris\")\n",
    "iris.head()"
   ]
  },
  {
   "cell_type": "code",
   "execution_count": 40,
   "metadata": {},
   "outputs": [
    {
     "data": {
      "text/plain": [
       "(np.float64(5.709732481507366), np.float64(5.976934185159301))"
      ]
     },
     "execution_count": 40,
     "metadata": {},
     "output_type": "execute_result"
    }
   ],
   "source": [
    "import scipy.stats as st\n",
    "confidence = 0.95\n",
    "st.t.interval(confidence, len(iris)-1, loc=iris['sepal_length'].mean(), scale=st.sem(iris['sepal_length']))"
   ]
  },
  {
   "cell_type": "markdown",
   "metadata": {},
   "source": [
    "### Portfolio assignment 7\n",
    "15 min: Look at the histogram of at least 2 columns with numerical data in the dataset that you chose in portfolio assignment 4. Do you recognise the distribution? Does it look like a uniform or normal distribution or something else? If it doesn't look like a uniform or normal distribution, take a quick look here to see if you can find the distribution shape: https://www.itl.nist.gov/div898/handbook/eda/section3/eda366.htm\n"
   ]
  },
  {
   "cell_type": "markdown",
   "metadata": {},
   "source": [
    "![](https://i.imgur.com/0v1CGNV.png)<br>\n",
    "Findings: ...<br>"
   ]
  },
  {
   "cell_type": "markdown",
   "metadata": {},
   "source": [
    "### Portfolio assignment 8\n",
    "15 min: \n",
    "- Calculate the 90%, 95%, 99% and 99.99% confidence interval for at least 2 columns with numerical data in the dataset that you chose in portfolio assignment 4. Do you see the impact the confidence has on the interval?\n",
    "- Now calculate the 95% confidence interval again but use only the first 10% of your rows. Compare this interval to the previous 95% confidence interval you calculated. Do you see the impact of having less data?"
   ]
  },
  {
   "cell_type": "markdown",
   "metadata": {},
   "source": [
    "![](https://i.imgur.com/0v1CGNV.png)<br>\n",
    "Assumptions: ...<br>\n",
    "Findings: ...<br>"
   ]
  },
  {
   "cell_type": "markdown",
   "metadata": {},
   "source": []
  }
 ],
 "metadata": {
  "kernelspec": {
   "display_name": "Python 3",
   "language": "python",
   "name": "python3"
  },
  "language_info": {
   "codemirror_mode": {
    "name": "ipython",
    "version": 3
   },
   "file_extension": ".py",
   "mimetype": "text/x-python",
   "name": "python",
   "nbconvert_exporter": "python",
   "pygments_lexer": "ipython3",
   "version": "3.12.4"
  }
 },
 "nbformat": 4,
 "nbformat_minor": 4
}
